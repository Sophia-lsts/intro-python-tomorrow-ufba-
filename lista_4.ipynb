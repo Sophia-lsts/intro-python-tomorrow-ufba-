{
  "nbformat": 4,
  "nbformat_minor": 0,
  "metadata": {
    "colab": {
      "provenance": [],
      "include_colab_link": true
    },
    "kernelspec": {
      "name": "python3",
      "display_name": "Python 3"
    },
    "language_info": {
      "name": "python"
    }
  },
  "cells": [
    {
      "cell_type": "markdown",
      "metadata": {
        "id": "view-in-github",
        "colab_type": "text"
      },
      "source": [
        "<a href=\"https://colab.research.google.com/github/Sophia-lsts/intro-python-tomorrow-ufba-/blob/main/lista_4.ipynb\" target=\"_parent\"><img src=\"https://colab.research.google.com/assets/colab-badge.svg\" alt=\"Open In Colab\"/></a>"
      ]
    },
    {
      "cell_type": "markdown",
      "source": [
        "![image.png](data:image/png;base64,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)\n",
        "\n",
        "# Introdução à Programação com Python\n",
        "\n",
        "Desenvolvido por: Laila Mota"
      ],
      "metadata": {
        "id": "tsBSweaOZehV"
      }
    },
    {
      "cell_type": "markdown",
      "source": [
        "Lista de exercícios Funções em Python\n",
        "\n",
        "Nome:"
      ],
      "metadata": {
        "id": "NT8fAGNT8v1x"
      }
    },
    {
      "cell_type": "markdown",
      "source": [
        "1. Vamos refazer nossa calculadora de operações básicas, dessa vez utilizando funções para cada uma das operações. Além disso inclua um menu para a seleção da opção de operação desejada.\n",
        "\n",
        "\n",
        "```\n",
        "[ A ] - Soma\n",
        "[ B ] - Subtração\n",
        "[ C ] - Divisão\n",
        "[ D ] - Multiplicação\n",
        "[ E ] - Sair\n",
        "```\n",
        "\n",
        "Abaixo um exemplo de execução do código:\n",
        "```\n",
        "Menu\n",
        "[ A ] - Soma\n",
        "[ B ] - Subtração\n",
        "[ C ] - Divisão\n",
        "[ D ] - Multiplicação\n",
        "[ E ] - Sair\n",
        "Insira a opção: #A\n",
        "Digite o primeiro número: #num1\n",
        "Digite o segundo número: #num2\n",
        "Resultado: #resultado\n",
        "Menu\n",
        "[ A ] - Soma\n",
        "[ B ] - Subtração\n",
        "[ C ] - Divisão\n",
        "[ D ] - Multiplicação\n",
        "[ E ] - Sair\n",
        "\n",
        "```\n",
        "O programa continua apresentando as opções enquanto a opção 'Sair' não for selecionada.\n",
        "\n"
      ],
      "metadata": {
        "id": "w76Ez6Wha0Bq"
      }
    },
    {
      "cell_type": "code",
      "source": [
        "def soma(a, b):\n",
        "    return a + b\n",
        "\n",
        "def subtracao(a, b):\n",
        "    return a - b\n",
        "\n",
        "def divisao(a, b):\n",
        "    if b != 0:\n",
        "        return a / b\n",
        "    else:\n",
        "        return \"Não pode dividir número por 0!\"\n",
        "\n",
        "def multiplicacao(a, b):\n",
        "    return a * b\n",
        "\n",
        "def opcoes():\n",
        "    print(\"[ A ] - Soma\")\n",
        "    print(\"[ B ] - Subtração\")\n",
        "    print(\"[ C ] - Divisão\")\n",
        "    print(\"[ D ] - Multiplicação\")\n",
        "    print(\"[ E ] - Sair\")\n",
        "\n",
        "\n",
        "while True:\n",
        "    opcoes()\n",
        "    opcao_selecionada = input(\"Digite sua opção: \").upper()\n",
        "#enquanto verdade faz isso se realizar automaticamente, opcoes() para chamar a função que foi definida antes.\n",
        "#digita a opção e será colocada em maiúsculo por causa do upper.\n",
        "    if opcao_selecionada == \"E\":\n",
        "        print(\"Encerrando programa...\")\n",
        "        break\n",
        "# a opção E encerra o programa por isso usa o break.\n",
        "    elif opcao_selecionada in [\"A\", \"B\", \"C\", \"D\"]:\n",
        "\n",
        "        numero1 = float(input(\"Digite seu número: \"))\n",
        "        numero2 = float(input(\"Digite seu outro número: \"))\n",
        "# as variáveis numero1 e numero2 serão necessárias para qualquer umas das outras opções por isso elas são colocadas antes das condições.\n",
        "        if opcao_selecionada == \"A\":\n",
        "            print(\"A sua soma é: \" ,soma(numero1,numero2))\n",
        "        elif opcao_selecionada == \"B\":\n",
        "            print(\"A sua subtração é: \" ,subtracao(numero1,numero2))\n",
        "        elif opcao_selecionada == \"C\":\n",
        "            print(\"A sua divisão é: \", divisao(numero1,numero2))\n",
        "        elif opcao_selecionada == \"D\":\n",
        "            print(\"A sua multiplicação é: \", multiplicacao(numero1,numero2))\n",
        "    else:\n",
        "        print(\"A opção digitada não é válida, por favor, escolha outra.\")\n",
        "        continue\n",
        "# else porque nem a condição if nem elif foram satisfeitas, o que não pode acontecer."
      ],
      "metadata": {
        "id": "EJaEG1L-8Z2u",
        "outputId": "b4c17363-f050-4ffb-ab2d-306e6607ce7f",
        "colab": {
          "base_uri": "https://localhost:8080/"
        }
      },
      "execution_count": null,
      "outputs": [
        {
          "output_type": "stream",
          "name": "stdout",
          "text": [
            "[ A ] - Soma\n",
            "[ B ] - Subtração\n",
            "[ C ] - Divisão\n",
            "[ D ] - Multiplicação\n",
            "[ E ] - Sair\n",
            "Digite sua opção: F\n",
            "A opção digitada não é válida, por favor, escolha outra.\n",
            "[ A ] - Soma\n",
            "[ B ] - Subtração\n",
            "[ C ] - Divisão\n",
            "[ D ] - Multiplicação\n",
            "[ E ] - Sair\n",
            "Digite sua opção: D\n",
            "Digite seu número: 8\n",
            "Digite seu outro número: 9\n",
            "A sua multiplicação é:  72.0\n",
            "[ A ] - Soma\n",
            "[ B ] - Subtração\n",
            "[ C ] - Divisão\n",
            "[ D ] - Multiplicação\n",
            "[ E ] - Sair\n",
            "Digite sua opção: A\n",
            "Digite seu número: 2\n",
            "Digite seu outro número: 3\n",
            "A sua soma é:  5.0\n",
            "[ A ] - Soma\n",
            "[ B ] - Subtração\n",
            "[ C ] - Divisão\n",
            "[ D ] - Multiplicação\n",
            "[ E ] - Sair\n",
            "Digite sua opção: e\n",
            "Encerrando programa...\n"
          ]
        }
      ]
    },
    {
      "cell_type": "markdown",
      "source": [
        "2. Vamos incrementar o exercício sobre triângulos. Agora você já sabe as condições para que três retas formem um triângulo. Considerando as seguintes propriedades\n",
        "\n",
        "* O triângulo é **escaleno** quando as medidas dos lados são todas diferentes.\n",
        "* O triângulo é **isósceles** quando possui pelo menos dois lados congruentes, ou seja, com a mesma medida.\n",
        "* O triângulo é **equilátero** quando possui os três lados com as mesmas medidas.\n",
        "\n",
        "Escreva um programa com funções para:\n",
        "\n",
        "* Verificar se três retas de tamanho inserido pelo usuário formam um triângulo.\n",
        "* Verificar se o triângulo é escaleno, isósceles ou equilátero\n",
        "* Calcular a área do triângulo.\n",
        "\n",
        "```\n",
        "Área do triângulo escaleno\n",
        "# Calcula o semiperímetro do triângulo.\n",
        "s = (a + b + c) / 2\n",
        "# Calcula a área do triângulo usando a fórmula de Heron.\n",
        "area = (s * (s - a) * (s - b) * (s - c))**(1/2)\n",
        "```\n",
        "```\n",
        "Área do triângulo equilátero\n",
        "# Calcula a área do triângulo.\n",
        "area = (((l)**(2))*(3**(1/2)))/4\n",
        "```\n",
        "```\n",
        "Área do triângulo isósceles\n",
        "# Calcula a área do triângulo.\n",
        "area = (b*(((-(b/2)**2)+(a**2))**(1/2)))/2\n",
        "```\n",
        "\n"
      ],
      "metadata": {
        "id": "WmqJi4Hka2CY"
      }
    },
    {
      "cell_type": "code",
      "source": [
        "import math\n",
        "\n",
        "def verificar_triangulo(reta1, reta2, reta3):\n",
        "    return reta1 + reta2 > reta3 and reta1 + reta3 > reta2 and reta2 + reta3 > reta1\n",
        "# essa função vai verificar se é um triângulo considerando que a soma de qualquer 2 lados tem que ser maior que o outro.\n",
        "\n",
        "def tipo_triangulo(reta1, reta2, reta3):\n",
        "    if reta1 == reta2 == reta3:\n",
        "        return \"Equilátero\"\n",
        "    elif reta1 == reta2 or reta1 == reta3 or reta2 == reta3:\n",
        "        return \"Isósceles\"\n",
        "    else:\n",
        "        return \"Escaleno\"\n",
        "# se todos os lados forem iguais vai ser equilátero, 2 iguais e 1 diferente vai ser isósceles e todos diferentes(else, porque não se encaixa nos 2 anteriores), escaleno.\n",
        "\n",
        "def calcular_area(reta1, reta2, reta3):\n",
        "    if tipo_triangulo(reta1, reta2, reta3) == \"Equilátero\":\n",
        "        return (((reta1)**2) * (3**(1/2))) / 4\n",
        "    elif tipo_triangulo(reta1, reta2, reta3) == \"Isósceles\":\n",
        "        return ((reta1 * reta2) / 2) or ((reta1 * reta3) / 2) or ((reta2 * reta3) / 2)\n",
        "    else:\n",
        "        s = (reta1 + reta2 + reta3) / 2\n",
        "        area = (s * (s - reta1) * (s - reta2) * (s - reta3)) ** (1/2)\n",
        "        return area\n",
        "# a função calcular área foi realizada de acordo com as fórmulas de cálculos de áreas para cada tipo de triângulo.\n",
        "\n",
        "while True:\n",
        "    reta1 = float(input(\"Digite o tamanho da primeira reta: \"))\n",
        "    reta2 = float(input(\"Digite o tamanho da segunda reta: \"))\n",
        "    reta3 = float(input(\"Digite o tamanho da terceira reta: \"))\n",
        "# você vai digitar o valor das retas e vai ser guardado.\n",
        "    if verificar_triangulo(reta1, reta2, reta3):\n",
        "        print(\"Pode formar um triângulo👍\")\n",
        "        print(f\"Tipo de triângulo: {tipo_triangulo(reta1, reta2, reta3)}\")\n",
        "        print(f\"Área do triângulo: {calcular_area(reta1, reta2, reta3):.2f}\")\n",
        "    else:\n",
        "        print(\"Não dá para formar um triângulo com essas medidas. Escolha outras.\")\n",
        "\n",
        "    continuar = input(\"Você deseja verificar outro triângulo? (sim/não): \")\n",
        "    if continuar.lower() != 'sim':\n",
        "        break"
      ],
      "metadata": {
        "id": "jOSJ7Qan75Pl",
        "colab": {
          "base_uri": "https://localhost:8080/"
        },
        "outputId": "3369b2d9-761c-4d91-8e82-fc97381b94fd"
      },
      "execution_count": 1,
      "outputs": [
        {
          "name": "stdout",
          "output_type": "stream",
          "text": [
            "Digite o tamanho da primeira reta: 4\n",
            "Digite o tamanho da segunda reta: 5\n",
            "Digite o tamanho da terceira reta: 6\n",
            "Pode formar um triângulo👍\n",
            "Tipo de triângulo: Escaleno\n",
            "Área do triângulo: 9.92\n",
            "Você deseja verificar outro triângulo? (sim/não): não\n"
          ]
        }
      ]
    },
    {
      "cell_type": "markdown",
      "source": [
        "3. Crie um programa para jogar \"Pedra, papel e tesoura\" com o computador. Você deve inserir o valor da sua jogada e ele deve randomizar o valor da jogada dele. Crie uma função para gerar a jogada do computador. Ao final a mensagem a ser exibida deve conter as opções escolhidas de cada jogador e o resultado.\n",
        "\n",
        "O jogo deve continuar solicitando entradas até que o usuário digite a palavra ``sair``\n",
        "```\n",
        "Você escolheu pedra e o computador escolheu tesoura.\n",
        "Você ganhou!\n",
        "```\n",
        "```\n",
        "❗ Você pode utilizar a função random.choice(<lista>) para\n",
        "escolher aleatóriamente um valor dentro de uma lista.\n",
        "\n",
        "import random\n",
        "random.choice(<lista>)\n",
        "```"
      ],
      "metadata": {
        "id": "-Rhz69SRa2aQ"
      }
    },
    {
      "cell_type": "code",
      "execution_count": null,
      "metadata": {
        "id": "9KjdViBqD-9T",
        "colab": {
          "base_uri": "https://localhost:8080/"
        },
        "outputId": "86626342-a38d-4b58-ffcd-5147a02ea811"
      },
      "outputs": [
        {
          "output_type": "stream",
          "name": "stdout",
          "text": [
            "Digite sua jogada (PEDRA, PAPEL, TESOURA) ou 'sair' para encerrar o jogo: \n",
            "TESOURA\n",
            "Você escolheu TESOURA e o computador escolheu PAPEL.\n",
            "\n",
            "Você ganhou!\n",
            "Digite sua jogada (PEDRA, PAPEL, TESOURA) ou 'sair' para encerrar o jogo: \n",
            "PAPEL\n",
            "Você escolheu PAPEL e o computador escolheu PEDRA.\n",
            "\n",
            "Você ganhou!\n",
            "Digite sua jogada (PEDRA, PAPEL, TESOURA) ou 'sair' para encerrar o jogo: \n",
            "PEDRA\n",
            "Você escolheu PEDRA e o computador escolheu PEDRA.\n",
            "\n",
            "Empate!\n",
            "Digite sua jogada (PEDRA, PAPEL, TESOURA) ou 'sair' para encerrar o jogo: \n",
            "SAIR\n",
            "Obrigado por jogar. Até a próxima!\n"
          ]
        }
      ],
      "source": [
        "import random\n",
        "# importar biblioteca que pode gerar escolhas aleatórias\n",
        "def jogada_aleatoria_computador():\n",
        "    return random.choice([\"PEDRA\", \"PAPEL\", \"TESOURA\"])\n",
        "\n",
        "while True:\n",
        "    sua_jogada = input(\"Digite sua jogada (PEDRA, PAPEL, TESOURA) ou 'sair' para encerrar o jogo: \\n\").upper()\n",
        "#upper para padronizar tudo em maiúsculo.\n",
        "    if sua_jogada == \"SAIR\":\n",
        "        print(\"Obrigado por jogar. Até a próxima!\")\n",
        "        break\n",
        "\n",
        "    if sua_jogada not in [\"PEDRA\", \"PAPEL\", \"TESOURA\"]:\n",
        "        print(\"Essa jogada não vale. Por favor, escolha entre PEDRA, PAPEL ou TESOURA!\")\n",
        "        continue\n",
        "# continue ele vai pedir novamente para você digitar uma jogada válida.\n",
        "    jogada_computador = jogada_aleatoria_computador()\n",
        "\n",
        "    print(f\"Você escolheu {sua_jogada} e o computador escolheu {jogada_computador}.\\n\")\n",
        "\n",
        "    if sua_jogada == jogada_computador:\n",
        "        print(\"Empate!\")\n",
        "    elif (sua_jogada == \"PEDRA\" and jogada_computador == \"TESOURA\") or \\\n",
        "            (sua_jogada == \"PAPEL\" and jogada_computador == \"PEDRA\") or \\\n",
        "            (sua_jogada == \"TESOURA\" and jogada_computador == \"PAPEL\"):\n",
        "        print(\"Você ganhou!\")\n",
        "    else:\n",
        "        print(\"Você perdeu!\")\n",
        "# se sua jogada for igual a do computador vai dar empate, depois coloca as opções de vitória em um jogo de pedra, papel e tesoura.\n",
        "#e se nenhumas dessas possibilidades tiver ocorrido foi porque você perdeu."
      ]
    },
    {
      "cell_type": "markdown",
      "source": [
        "4. Crie um programa que leia o ano de nascimento do usuário e imprima sua situação quanto a obrigatoriedade do voto.\n",
        "```\n",
        "Idade entre 16 e 18 anos, idade maior que 65 anos -> Opcional!\n",
        "Idade menor que 16 -> Não vota!\n",
        "Idade entre 18 e 65 anos -> Obrigatório!\n",
        "```"
      ],
      "metadata": {
        "id": "gT_uh1Crmyuy"
      }
    },
    {
      "cell_type": "code",
      "execution_count": null,
      "metadata": {
        "id": "EwYqSKAzD_NS",
        "outputId": "47b1f815-0784-4549-ba63-a3191ec01df1",
        "colab": {
          "base_uri": "https://localhost:8080/"
        }
      },
      "outputs": [
        {
          "output_type": "stream",
          "name": "stdout",
          "text": [
            "Digite o seu ano de nascimento:2006\n",
            "Obrigatório!\n"
          ]
        }
      ],
      "source": [
        "import datetime\n",
        "\n",
        "hoje = datetime.datetime.now()\n",
        "ano_nascimento = int(input(\"Digite o seu ano de nascimento:\"))\n",
        "idade = hoje.year - ano_nascimento\n",
        "\n",
        "if 16 <= idade < 18 or idade > 65:\n",
        "    print(\"Opcional!\")\n",
        "elif idade < 16:\n",
        "    print(\"Não vota!\")\n",
        "else:\n",
        "    print(\"Obrigatório!\")\n",
        "\n",
        "\n",
        "#obs: tava dando erro porque estava escrevendo datatime e não datetime ;-;"
      ]
    },
    {
      "cell_type": "markdown",
      "source": [
        "5. Faça um programa que leia um nome de usuário e a sua senha e não aceite a senha caso o nome de usuário esteja na senha, mostrando uma mensagem de erro e voltando a pedir uma nova senha até que a senha digitada seja válida.\n",
        "\n",
        "```\n",
        "Nomes de usuário devem conter apenas letras (maiúsculas e minúsculas), não podem conter espaço em branco e devem ter no máximo 8 caracteres.\n",
        "Senhas devem ter no mínimo 8 caracteres e podem conter qualquer caractere, exceto espaço em branco.\n",
        "```"
      ],
      "metadata": {
        "id": "JtjWCSIQa202"
      }
    },
    {
      "cell_type": "code",
      "execution_count": null,
      "metadata": {
        "id": "zH8aMTMOD_jQ",
        "colab": {
          "base_uri": "https://localhost:8080/"
        },
        "outputId": "ea945ea1-e157-46eb-9781-7141ef231ac8"
      },
      "outputs": [
        {
          "output_type": "stream",
          "name": "stdout",
          "text": [
            "Digite seu nome de usuário: sophii\n",
            "Digite sua senha: python123\n",
            "Seu usuário e senha foram cadastrados👍\n"
          ]
        }
      ],
      "source": [
        "while True:\n",
        "    usuario = input(\"Digite seu nome de usuário: \")\n",
        "    senha = input(\"Digite sua senha: \")\n",
        "# o usuário e senha digitados serão guardados.\n",
        "    if usuario in senha:\n",
        "        print(\"Erro. Não escreva o seu nome de usuário na senha.\")\n",
        "        continue\n",
        "# se a escrita do usuário estiver contido na senha ele vai mostrar essa mensagem e pedir para escrever novamente.\n",
        "    elif len(usuario) > 8 or ' ' in usuario:\n",
        "        print(\"O nome do seu usuário tem que ter no máximo 8 caracteres e não pode ter espaços.\")\n",
        "        continue\n",
        "# len vai ler a quantidade de caracteres em usuário, que não pode passar de 8, ou se tiver ' ' espaços vazios, ele também vai pedir para reescrever sem isso.\n",
        "    elif len(senha) < 8 or ' ' in senha:\n",
        "        print(\"A sua senha tem que ter no mínimo 8 caracteres e não pode ter espaços.\")\n",
        "        continue\n",
        "# aqui vai ser o mesmo que o de cima mas aplicado as condições de senha.\n",
        "    else:\n",
        "        print(\"Seu usuário e senha foram cadastrados👍\")\n",
        "# se tudo acima NÃO tiver sido feito, ou seja, tiver escolhido usuário e senhas que se encaixem nas exigências,..\n",
        "# ele mostra que seu usuário e senha foi cadastrado e termina o programa.\n",
        "    break\n",
        "\n"
      ]
    }
  ]
}