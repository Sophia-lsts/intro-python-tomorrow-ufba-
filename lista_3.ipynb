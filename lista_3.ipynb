{
  "nbformat": 4,
  "nbformat_minor": 0,
  "metadata": {
    "colab": {
      "provenance": [],
      "include_colab_link": true
    },
    "kernelspec": {
      "name": "python3",
      "display_name": "Python 3"
    },
    "language_info": {
      "name": "python"
    }
  },
  "cells": [
    {
      "cell_type": "markdown",
      "metadata": {
        "id": "view-in-github",
        "colab_type": "text"
      },
      "source": [
        "<a href=\"https://colab.research.google.com/github/Sophia-lsts/intro-python-tomorrow-ufba-/blob/main/lista_3.ipynb\" target=\"_parent\"><img src=\"https://colab.research.google.com/assets/colab-badge.svg\" alt=\"Open In Colab\"/></a>"
      ]
    },
    {
      "cell_type": "markdown",
      "source": [
        "![image.png](data:image/png;base64,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)\n",
        "\n",
        "# Introdução à Programação com Python\n",
        "\n",
        "Desenvolvido por: Laila Mota"
      ],
      "metadata": {
        "id": "tsBSweaOZehV"
      }
    },
    {
      "cell_type": "markdown",
      "source": [
        "Lista de exercícios Variáveis, Tipos de Dados e Operadores\n",
        "\n",
        "Nome:"
      ],
      "metadata": {
        "id": "NT8fAGNT8v1x"
      }
    },
    {
      "cell_type": "markdown",
      "source": [
        "1. Dada uma lista que contém strings e inteiros:\n",
        "\n",
        "`lst = ['maçã', 'uva', 12, 15, 15755, ['Fulano','Cicrano', 12, 11, 125,]]`\n",
        "\n",
        "Imprima o tamanho da lista"
      ],
      "metadata": {
        "id": "w76Ez6Wha0Bq"
      }
    },
    {
      "cell_type": "code",
      "execution_count": null,
      "metadata": {
        "id": "Qf85IgdnagmB",
        "outputId": "4c2f7646-2713-4595-db42-7b37bd13a268",
        "colab": {
          "base_uri": "https://localhost:8080/"
        }
      },
      "outputs": [
        {
          "output_type": "execute_result",
          "data": {
            "text/plain": [
              "6"
            ]
          },
          "metadata": {},
          "execution_count": 3
        }
      ],
      "source": [
        "lista = ['maçã', 'uva', 12, 15, 15755, ['Fulano','Cicrano', 12, 11, 125,]]\n",
        "len(lista)"
      ]
    },
    {
      "cell_type": "markdown",
      "source": [
        "2. Crie uma lista com 5 elementos, imprima sua lista, depois exclua um dos elementos da lista e imprima novamente."
      ],
      "metadata": {
        "id": "WmqJi4Hka2CY"
      }
    },
    {
      "cell_type": "code",
      "execution_count": null,
      "metadata": {
        "id": "F7F95SJOD-la",
        "outputId": "ca63ec31-497f-4651-ec80-c188aeafa8be",
        "colab": {
          "base_uri": "https://localhost:8080/"
        }
      },
      "outputs": [
        {
          "output_type": "execute_result",
          "data": {
            "text/plain": [
              "4"
            ]
          },
          "metadata": {},
          "execution_count": 6
        }
      ],
      "source": [
        "lista = ['goiaba', 'jambo', 17, 1989, 13]\n",
        "len(lista)\n",
        "list.pop(lista)\n",
        "len(lista)"
      ]
    },
    {
      "cell_type": "markdown",
      "source": [
        "3. Crie três strings, depois concatene as strings para formar duas frases diferentes e imprima."
      ],
      "metadata": {
        "id": "-Rhz69SRa2aQ"
      }
    },
    {
      "cell_type": "code",
      "execution_count": null,
      "metadata": {
        "id": "9KjdViBqD-9T",
        "outputId": "8921326a-cd3f-4445-ae87-274aeb63700a",
        "colab": {
          "base_uri": "https://localhost:8080/"
        }
      },
      "outputs": [
        {
          "output_type": "stream",
          "name": "stdout",
          "text": [
            "Eu sou  linda 😘. E também nerd 🤓\n"
          ]
        }
      ],
      "source": [
        "string1 = \"Eu sou \"\n",
        "string2 = \" linda 😘.\"\n",
        "string3 = \" E também nerd 🤓\"\n",
        "print(string1 + string2 + string3)"
      ]
    },
    {
      "cell_type": "markdown",
      "source": [
        "4. Crie um programa que leia o nome completo de uma pessoa e mostre:\n",
        "\n",
        "*   O nome com todas as letras maiúsculas e minúsculas.\n",
        "*   Quantas letras ao todo (sem considerar espaços).\n",
        "*   Quantas letras tem o primeiro nome."
      ],
      "metadata": {
        "id": "gT_uh1Crmyuy"
      }
    },
    {
      "cell_type": "code",
      "execution_count": null,
      "metadata": {
        "id": "EwYqSKAzD_NS",
        "colab": {
          "base_uri": "https://localhost:8080/"
        },
        "outputId": "bed4c744-29d6-485c-e760-32dde4a25443"
      },
      "outputs": [
        {
          "output_type": "stream",
          "name": "stdout",
          "text": [
            "Digite seu nome completo: Sophia Lima Santos\n",
            "Sophia Lima Santos\n",
            "SOPHIA LIMA SANTOS\n",
            "sophia lima santos\n",
            "16\n",
            "6\n"
          ]
        }
      ],
      "source": [
        "nome_usuario = input(\"Digite seu nome completo: \")\n",
        "print((nome_usuario))\n",
        "print(nome_usuario.upper())\n",
        "print(nome_usuario.lower())\n",
        "print(len(nome_usuario.replace(\" \", \"\")))\n",
        "print(len(nome_usuario.split()[0]))\n",
        "\n",
        "# nome da string.upper deixa a string toda em maiúsculo\n",
        "# replace \" \", \"\" esta substituindo os espaços dentro da string que está na variável por \"\", ou seja, espaço nenhum\n",
        "# string.split separa as palavras e [0] selecina a primeira.\n"
      ]
    },
    {
      "cell_type": "markdown",
      "source": [
        "5. Crie uma tupla com os seguintes elementos: 1, 2, 2, 3, 4, 4, 4, 5 e imprima quantas vezes o número 4 aparece na tupla.\n"
      ],
      "metadata": {
        "id": "JtjWCSIQa202"
      }
    },
    {
      "cell_type": "code",
      "execution_count": null,
      "metadata": {
        "id": "zH8aMTMOD_jQ",
        "colab": {
          "base_uri": "https://localhost:8080/"
        },
        "outputId": "a3696447-9946-4df8-8ab1-5d6aecffddd0"
      },
      "outputs": [
        {
          "output_type": "stream",
          "name": "stdout",
          "text": [
            "Essa é a quantidade de vezes que o 4 aparece: 3\n"
          ]
        }
      ],
      "source": [
        "tupla = (1, 2, 2, 3, 4, 4, 4, 5)\n",
        "\n",
        "vezes_4 = tupla.count(4)\n",
        "\n",
        "print(\"Essa é a quantidade de vezes que o 4 aparece:\", vezes_4)"
      ]
    },
    {
      "cell_type": "markdown",
      "source": [
        "6. Faça um programa que leia o nome de uma pessoa e diga se ela tem \"Silva\" no nome."
      ],
      "metadata": {
        "id": "-ne98xx9a3Ts"
      }
    },
    {
      "cell_type": "code",
      "execution_count": null,
      "metadata": {
        "id": "TEERM0qjD_2B",
        "colab": {
          "base_uri": "https://localhost:8080/"
        },
        "outputId": "8a5383a1-f9d6-4821-eef7-76c248e73099"
      },
      "outputs": [
        {
          "output_type": "stream",
          "name": "stdout",
          "text": [
            "Digite o seu nome:Sophia Lima e Silva\n",
            "Você tem Silva no nome\n"
          ]
        }
      ],
      "source": [
        "nome_da_pessoa = input(\"Digite o seu nome:\")\n",
        "if \"Silva\" in nome_da_pessoa:\n",
        "    print(\"Você tem Silva no nome\")\n",
        "else:\n",
        "    print(\"Você não tem Silva no nome\")\n",
        "\n",
        "# coloquei silva no meu nome só pra testar se estava certo kkk"
      ]
    },
    {
      "cell_type": "markdown",
      "source": [
        "7. Crie um programa que leia o nome e o ano de nascimento de 6 pessoas, armazene em um dicionário essas informações. No final, mostre:\n",
        "\n",
        "*   Quantas pessoas são maiores de idade\n",
        "*   Quantas pessoas são menores de idade\n",
        "*   Os nomes das pessoas maiores de idade\n",
        "*   Os nomes das pessoas menores de idade"
      ],
      "metadata": {
        "id": "yWZLNDNRa3-4"
      }
    },
    {
      "cell_type": "code",
      "execution_count": null,
      "metadata": {
        "id": "7ukvuUOXEAFW",
        "colab": {
          "base_uri": "https://localhost:8080/"
        },
        "outputId": "a6cece31-0490-4023-f0f0-1e9228a7ac0a"
      },
      "outputs": [
        {
          "output_type": "stream",
          "name": "stdout",
          "text": [
            "Digite seu nome:Sophia\n",
            "Digite seu ano de nascimento:2006\n",
            "Digite seu nome:Felipe\n",
            "Digite seu ano de nascimento:2005\n",
            "Digite seu nome:Jansey\n",
            "Digite seu ano de nascimento:2003\n",
            "Digite seu nome:Vitoria\n",
            "Digite seu ano de nascimento:2003\n",
            "Digite seu nome:Melissa\n",
            "Digite seu ano de nascimento:2007\n",
            "Digite seu nome:Julia\n",
            "Digite seu ano de nascimento:2009\n",
            "O número de pessoas maiores de idade é:  4\n",
            "O número de pessoas menores de idade é:  2\n",
            "Esses são os nomes das pessoas maiores de idade: \n",
            "Sophia\n",
            "Felipe\n",
            "Jansey\n",
            "Vitoria\n",
            "Esses são os nomes das pessoas menores de idade: \n",
            "Melissa\n",
            "Julia\n"
          ]
        }
      ],
      "source": [
        "pessoa = {}\n",
        "\n",
        "maiores_de_idade = 0\n",
        "menores_de_idade = 0\n",
        "\n",
        "for i in range (0,6):\n",
        "    nome = input(\"Digite seu nome:\")\n",
        "    ano = int(input(\"Digite seu ano de nascimento:\"))\n",
        "    idade = 2024 - ano\n",
        "\n",
        "    pessoa[nome] = idade\n",
        "\n",
        "    if idade >= 18:\n",
        "        maiores_de_idade += 1\n",
        "    elif idade < 18:\n",
        "        menores_de_idade += 1\n",
        "\n",
        "print(\"O número de pessoas maiores de idade é: \", maiores_de_idade)\n",
        "print(\"O número de pessoas menores de idade é: \", menores_de_idade)\n",
        "\n",
        "print(\"Esses são os nomes das pessoas maiores de idade: \")\n",
        "for nome, idade in pessoa.items():\n",
        "    if idade >= 18:\n",
        "        print(nome)\n",
        "\n",
        "print(\"Esses são os nomes das pessoas menores de idade: \")\n",
        "for nome, idade in pessoa.items():\n",
        "    if idade < 18:\n",
        "        print(nome)\n",
        "\n",
        "\n",
        "\n"
      ]
    },
    {
      "cell_type": "markdown",
      "source": [
        "8. Vamos refazer nossa calculadora. Crie um programa que leia dois valores numéricos e mostre um menu na tela:\n",
        "\n",
        "```\n",
        "[ A ] somar\n",
        "[ B ] multiplicar\n",
        "[ C ] maior\n",
        "[ D ] novos números\n",
        "[ E ] sair do programa\n",
        "\n",
        "```\n",
        "Seu programa deverá realizar a operação solicitada em cada caso.\n",
        "\n",
        "\n"
      ],
      "metadata": {
        "id": "lRnLuZoUa4Lb"
      }
    },
    {
      "cell_type": "code",
      "source": [
        "# enquanto isso for verdade faz o código rodar infinitamente até que a opção de \"sair do programa\" seja selecionada.\n",
        "while True:\n",
        "    num1 = float(input(\"Digite o primeiro número: \"))\n",
        "    num2 = float(input(\"Digite o segundo número: \"))\n",
        "# num 1 e num 2 foram definidos de forma global para servir em qualquer momento que for digitado, dentro do laço ou não.\n",
        "    print(\"[ A ] somar\"\n",
        "\"[ B ] multiplicar\"\n",
        "\"[ C ] maior\"\n",
        "\"[ D ] novos números\"\n",
        "\"[ E ] sair do programa\")\n",
        "\n",
        "    opcao = input(\"Escolha uma opção: \").upper()\n",
        "# upper caso o querido usuário faço o desfavor de digitar a letra em minúsculo 😒\n",
        "    if opcao == 'A':\n",
        "        print(\"A soma é:\", num1 + num2)\n",
        "    elif opcao == 'B':\n",
        "        print(\"A multiplicação é:\", num1 * num2)\n",
        "    elif opcao == 'C':\n",
        "        print(\"O maior número é:\", max(num1, num2))\n",
        "# (max) já define automaticamente quem é o maior entre os 2\n",
        "    elif opcao == 'D':\n",
        "        continue\n",
        "# continue porque vai voltar e solicitar novos números\n",
        "    elif opcao == 'E':\n",
        "        print(\"Programa encerrado\")\n",
        "        break\n",
        "# aqui foi usado else porque se nenhuma das condições acima foi satisfeita, é porque o usuário não digitou A, B, C, D nem E.\n",
        "    else:\n",
        "        print(\"Essa opção não existe. Escolha outra.\")\n"
      ],
      "metadata": {
        "id": "U5kXK2_NoUme",
        "colab": {
          "base_uri": "https://localhost:8080/"
        },
        "outputId": "0fd97b8f-d371-427d-dbd0-16200e4abf9f"
      },
      "execution_count": null,
      "outputs": [
        {
          "output_type": "stream",
          "name": "stdout",
          "text": [
            "Digite o primeiro número: 8\n",
            "Digite o segundo número: 19\n",
            "[ A ] somar[ B ] multiplicar[ C ] maior[ D ] novos números[ E ] sair do programa\n",
            "Escolha uma opção: E\n",
            "Programa encerrado\n"
          ]
        }
      ]
    },
    {
      "cell_type": "markdown",
      "source": [
        "9. Crie um programa que vai ler cinco números e armazenar em uma tupla. Depois disso, mostre a listagem de números e também indique o menor e o maior valor que estão na tupla."
      ],
      "metadata": {
        "id": "i-i4vfCAa4af"
      }
    },
    {
      "cell_type": "code",
      "execution_count": null,
      "metadata": {
        "id": "LgRuqsxnEAwD",
        "colab": {
          "base_uri": "https://localhost:8080/"
        },
        "outputId": "01b1f0c5-b4ce-4728-dec2-4f33c0adf523"
      },
      "outputs": [
        {
          "output_type": "stream",
          "name": "stdout",
          "text": [
            "Digite seu primeiro número: 8\n",
            "Digite seu segundo número: 2\n",
            "Digite seu terceiro número: 5\n",
            "Digite seu quarto número: 10\n",
            "Digite seu quinto número: 7\n",
            "Esses foram os números digitados: (8, 2, 5, 10, 7)\n",
            "Esse é o menor valor da tupla: 2\n",
            "Esse é o maior valor da tupla: 10\n"
          ]
        }
      ],
      "source": [
        "num1 = int(input(\"Digite seu primeiro número: \"))\n",
        "num2 = int(input(\"Digite seu segundo número: \"))\n",
        "num3 = int(input(\"Digite seu terceiro número: \"))\n",
        "num4 = int(input(\"Digite seu quarto número: \"))\n",
        "num5 = int(input(\"Digite seu quinto número: \"))\n",
        "\n",
        "tupla = (num1, num2, num3, num4, num5)\n",
        "# guardou os números digitados dentro da tupla\n",
        "\n",
        "print(\"Esses foram os números digitados:\", tupla)\n",
        "\n",
        "menor_valor = min(tupla)\n",
        "maior_valor = max(tupla)\n",
        "# min e max já acham o valor mínimo e máximo da tupla\n",
        "\n",
        "print(\"Esse é o menor valor da tupla:\", menor_valor)\n",
        "print(\"Esse é o maior valor da tupla:\", maior_valor)\n"
      ]
    },
    {
      "cell_type": "markdown",
      "source": [
        "10. Desenvolva um programa que leia 6 valores pelo teclado e guarde-os em uma tupla. No final, mostre:\n",
        "\n",
        "*   Quantas vezes apareceu o valor 9.\n",
        "*   Em que posição foi digitado o primeiro valor 3.\n",
        "*   Quais foram os números pares.\n",
        "\n"
      ],
      "metadata": {
        "id": "wfbHxOxvBXS2"
      }
    },
    {
      "cell_type": "code",
      "execution_count": null,
      "metadata": {
        "id": "i938O81oEBJY",
        "colab": {
          "base_uri": "https://localhost:8080/"
        },
        "outputId": "aa8eab56-e6bf-48c9-8a46-635a6054527f"
      },
      "outputs": [
        {
          "output_type": "stream",
          "name": "stdout",
          "text": [
            "Digite seu primeiro número: 90\n",
            "Digite seu segundo número: 9\n",
            "Digite seu terceiro número: 3\n",
            "Digite seu quarto número: 2\n",
            "Digite seu quinto número: 4\n",
            "Digite seu sexto número: 3\n",
            "Quantidade de vezes que o valor 9 apareceu: 1\n",
            "O primeiro valor 3 foi digitado na posição 3\n",
            "Números pares digitados:\n",
            "90\n",
            "2\n",
            "4\n"
          ]
        }
      ],
      "source": [
        "valor1 = int(input(\"Digite seu primeiro número: \"))\n",
        "valor2 = int(input(\"Digite seu segundo número: \"))\n",
        "valor3 = int(input(\"Digite seu terceiro número: \"))\n",
        "valor4 = int(input(\"Digite seu quarto número: \"))\n",
        "valor5 = int(input(\"Digite seu quinto número: \"))\n",
        "valor6 = int(input(\"Digite seu sexto número: \"))\n",
        "\n",
        "minha_tupla = (valor1, valor2, valor3, valor4, valor5, valor6)\n",
        "# guarda os valores dentro da tupla\n",
        "\n",
        "quantos_nove = minha_tupla.count(9)\n",
        "# nome_da_tupla.count(elemento) acha quantas vezes aquele elemento aparece na tupla.\n",
        "\n",
        "posicao_tres = minha_tupla.index(3) + 1 if 3 in minha_tupla else None\n",
        "# ali tem +1 porque indexação começa por 0, mas o valor que se quer é da posição 3.\n",
        "numeros_pares = tuple(num for num in minha_tupla if num % 2 == 0)\n",
        "# num % 2 = 0 -> números pares\n",
        "\n",
        "print('Quantidade de vezes que o valor 9 apareceu:', quantos_nove)\n",
        "if posicao_tres is not None:\n",
        "    print('O primeiro valor 3 foi digitado na posição', posicao_tres)\n",
        "# se posicao_tres não estiver vazia, mostra a posição que o primeiro 3 apareceu.\n",
        "else:\n",
        "    print('Não foi digitado o valor 3.')\n",
        "# se o de cima não acontecer, é porque 3 não foi digitado.\n",
        "print('Números pares digitados:')\n",
        "for num in numeros_pares:\n",
        "    print(num)\n"
      ]
    }
  ]
}