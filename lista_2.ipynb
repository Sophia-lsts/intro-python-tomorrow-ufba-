{
  "nbformat": 4,
  "nbformat_minor": 0,
  "metadata": {
    "colab": {
      "provenance": [],
      "include_colab_link": true
    },
    "kernelspec": {
      "name": "python3",
      "display_name": "Python 3"
    },
    "language_info": {
      "name": "python"
    }
  },
  "cells": [
    {
      "cell_type": "markdown",
      "metadata": {
        "id": "view-in-github",
        "colab_type": "text"
      },
      "source": [
        "<a href=\"https://colab.research.google.com/github/Sophia-lsts/intro-python-tomorrow-ufba-/blob/main/lista_2.ipynb\" target=\"_parent\"><img src=\"https://colab.research.google.com/assets/colab-badge.svg\" alt=\"Open In Colab\"/></a>"
      ]
    },
    {
      "cell_type": "markdown",
      "source": [
        "![image.png](data:image/png;base64,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)\n",
        "\n",
        "# Introdução à Programação com Python\n",
        "\n",
        "Desenvolvido por: Laila Mota"
      ],
      "metadata": {
        "id": "tsBSweaOZehV"
      }
    },
    {
      "cell_type": "markdown",
      "source": [
        "Lista de exercícios Variáveis, Tipos de Dados e Operadores\n",
        "\n",
        "Nome:"
      ],
      "metadata": {
        "id": "NT8fAGNT8v1x"
      }
    },
    {
      "cell_type": "markdown",
      "source": [
        "1. Escreva um programa que pergunte a velocidade do carro de um usuário. Caso ultrapasse 80 km/h, exiba uma mensagem dizendo que o usuário foi multado. Nesse caso, exiba o valor da multa, cobrando R$ 5 por km acima de 80 km/h."
      ],
      "metadata": {
        "id": "xExC_aC1yHDk"
      }
    },
    {
      "cell_type": "code",
      "execution_count": null,
      "metadata": {
        "id": "xxFOxeqgyPbs",
        "outputId": "064e6f58-3948-445f-c1a4-332f23a4fd5f",
        "colab": {
          "base_uri": "https://localhost:8080/"
        }
      },
      "outputs": [
        {
          "output_type": "stream",
          "name": "stdout",
          "text": [
            "Digite a velocidade em km/h: 95\n",
            "Você foi multado, e sua multa vale:  75.0\n"
          ]
        }
      ],
      "source": [
        "velocidade = float(input(\"Digite a velocidade em km/h: \"))\n",
        "multa = (velocidade  - 80) * 5\n",
        "if (velocidade > 80):\n",
        "    print(\"Você foi multado😓, e sua multa vale: \", multa)\n",
        "\n",
        "# o usuário vai digitar a velocidade, essa informação vai ser guardada e se for acima de 80 km/h, vai diminuir e multiplicar por 5.\n",
        "# o código vai mostrar a frase que vc foi multado e o valor da multa com a informação que foi calculada e guardada na variável multa.\n",
        "# se não for acima de 80 km não acontece nada."
      ]
    },
    {
      "cell_type": "markdown",
      "source": [
        "2. Escreva um programa que leia três números e que imprima o maior e o menor."
      ],
      "metadata": {
        "id": "VL7E1KS8yHDs"
      }
    },
    {
      "cell_type": "code",
      "execution_count": null,
      "metadata": {
        "id": "9uPiggeZyP0V",
        "colab": {
          "base_uri": "https://localhost:8080/"
        },
        "outputId": "4e978780-45d5-4c74-94fa-86c8e48bdc5a"
      },
      "outputs": [
        {
          "output_type": "stream",
          "name": "stdout",
          "text": [
            "Leia o primeiro número: 15\n",
            "Leia o segundo número: 9\n",
            "Leia o terceiro número: 7\n",
            "Esse é seu menor número:  7\n",
            "Esse é seu maior número:  15\n"
          ]
        }
      ],
      "source": [
        "v1 = int(input(\"Leia o primeiro número: \"))\n",
        "v2 = int(input(\"Leia o segundo número: \"))\n",
        "v3 = int(input(\"Leia o terceiro número: \"))\n",
        "\n",
        "menornum = v1\n",
        "if v2 < menornum:\n",
        "    menornum = v2\n",
        "if v3 < menornum:\n",
        "    menornum = v3\n",
        "\n",
        "maiornum = v1\n",
        "if v2 > maiornum:\n",
        "    maiornum = v2\n",
        "if v3 > maiornum:\n",
        "    maiornum = v3\n",
        "\n",
        "print(\"Esse é seu menor número: \", menornum)\n",
        "print(\"Esse é seu maior número: \", maiornum)\n",
        "\n",
        "# basicamente ele vai guardar o valor das variáveis que o usuário for digitar, e, como não se sabe se ele colocou em ordem ou não, tem que comparar os valores uns com os outros para saber qual o menor.\n",
        "# e o mesmo se faz para descobrir o maior.\n",
        "\n",
        "\n"
      ]
    },
    {
      "cell_type": "markdown",
      "source": [
        "3. Escreva um programa que pergunte o salário do funcionário e calcule o valor do aumento. Para salários superiores a R\\$ 1.250,00, calcule um aumento de 10%. Para os inferiores ou iguais, de 15%."
      ],
      "metadata": {
        "id": "WvIXbip8yHDw"
      }
    },
    {
      "cell_type": "code",
      "execution_count": null,
      "metadata": {
        "id": "hrP2BPE_yQEF",
        "colab": {
          "base_uri": "https://localhost:8080/"
        },
        "outputId": "d13411ce-1d08-4c46-b24b-b75a2fa64494"
      },
      "outputs": [
        {
          "output_type": "stream",
          "name": "stdout",
          "text": [
            "Digite seu salário: 1800\n",
            "180.0\n"
          ]
        }
      ],
      "source": [
        "salario = float(input(\"Digite seu salário: \"))\n",
        "aumento10 = (salario * 0.1)\n",
        "aumento15 = (salario * 0.15)\n",
        "\n",
        "if salario > 1250:\n",
        "    print(aumento10)\n",
        "else:\n",
        "    print(aumento15)\n",
        "# mesmo raciocínio da questão 4."
      ]
    },
    {
      "cell_type": "markdown",
      "source": [
        "4. Escreva um programa que pergunte a distância que um passageiro deseja percorrer em km. Calcule o preço da passagem, cobrando R\\$ 0,50 por km para viagens de até de 200 km, e R\\$ 0,45 para viagens mais longas."
      ],
      "metadata": {
        "id": "6jpL1T00yHDz"
      }
    },
    {
      "cell_type": "code",
      "execution_count": null,
      "metadata": {
        "id": "a45zaHNryQUB",
        "colab": {
          "base_uri": "https://localhost:8080/"
        },
        "outputId": "3206cb07-82c0-4e1d-cd54-772023215e08"
      },
      "outputs": [
        {
          "output_type": "stream",
          "name": "stdout",
          "text": [
            "Digite a distância que se deseja percorrer em km: 350\n",
            "Esse é o valor de sua passagem:  157.5\n"
          ]
        }
      ],
      "source": [
        "distancia = float(input(\"Digite a distância que se deseja percorrer em km: \"))\n",
        "passagem1 = (0.5 * distancia)\n",
        "passagem2 = (0.45 * distancia)\n",
        "\n",
        "if distancia <= 200:\n",
        "    print(\"Esse é o valor de sua passagem: \", passagem1)\n",
        "else:\n",
        "    print(\"Esse é o valor de sua passagem: \", passagem2)\n",
        "\n",
        "# a depender da quantidade de kilômetro que o usuário digitar, ele vai calcular o preço da passagem. se for menor ou igual a 200, é a distância vezes 50 centavos.\n",
        "# se não for, é a distância vezes 45 centavos.\n"
      ]
    },
    {
      "cell_type": "markdown",
      "source": [
        "5. Escreva um programa que leia dois números e que pergunte qual operação você deseja realizar. Você deve poder calcular a soma (+), subtração (-), multiplicação (*) e divisão (/). Exiba o resultado da operação solicitada."
      ],
      "metadata": {
        "id": "UU9ujILHyHD1"
      }
    },
    {
      "cell_type": "code",
      "execution_count": null,
      "metadata": {
        "id": "UfdKg7E0yQxm",
        "colab": {
          "base_uri": "https://localhost:8080/"
        },
        "outputId": "19b26bcf-c932-4bf0-a282-31454f3e8eb0"
      },
      "outputs": [
        {
          "output_type": "stream",
          "name": "stdout",
          "text": [
            "Digite seu primeiro número: 8\n",
            "Digite seu segundo número: 13\n",
            "Digite a operação desejada: multiplicação\n",
            "104.0\n"
          ]
        }
      ],
      "source": [
        "num1 = float(input(\"Digite seu primeiro número: \"))\n",
        "num2 = float(input(\"Digite seu segundo número: \"))\n",
        "operacao = input(\"Digite a operação desejada: \")\n",
        "\n",
        "if operacao == \"soma\":\n",
        "    print(num1 + num2)\n",
        "elif operacao == \"subtração\":\n",
        "    print(num1 - num2)\n",
        "elif operacao == \"multiplicação\":\n",
        "    print(num1 * num2)\n",
        "else:   # o que acontece se o usuário inserir \"raiz quadrada\"?\n",
        "    print(num1 / num2)\n",
        "\n",
        "# o usuário vai digitar os números que deseja realizar a operação.\n",
        "# depois vai dizer que operação vai fazer e o código já faz."
      ]
    },
    {
      "cell_type": "markdown",
      "source": [
        "6. Escreva um programa que calcule o preço a pagar pelo fornecimento de energia elétrica. Pergunte a quantidade de kWh consumida e o tipo de instalação: R para residências, I para indústrias e C para comércios. Calcule o preço a pagar de acordo com a tabela a seguir.\n",
        "\n",
        "![image.png](data:image/png;base64,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)"
      ],
      "metadata": {
        "id": "PL9b1jruyHD3"
      }
    },
    {
      "cell_type": "code",
      "execution_count": null,
      "metadata": {
        "id": "lmZH7ciPyRB0",
        "colab": {
          "base_uri": "https://localhost:8080/"
        },
        "outputId": "7bbde924-ff91-418c-f022-3a844bb0a5aa"
      },
      "outputs": [
        {
          "output_type": "stream",
          "name": "stdout",
          "text": [
            "Escreva a quantidade de kWh consumida: 800\n",
            "Digite o tipo de instalação: R para residencial, C para comercial e I para Industrial: C\n",
            "Esse é o preço a se pagar:  440.00000000000006\n"
          ]
        }
      ],
      "source": [
        "qkwh = int(input(\"Escreva a quantidade de kWh consumida: \"))\n",
        "instalacao = input(\"Digite o tipo de instalação: R para residencial, C para comercial e I para Industrial: \")\n",
        "\n",
        "if qkwh <= 500 and instalacao == \"R\":\n",
        "    print(\"Esse é o preço a se pagar: \", 0.4*qkwh )\n",
        "elif 1000 > qkwh > 500 and instalacao == \"R\":\n",
        "    print(\"Esse é o preço a se pagar: \", 0.65*qkwh)\n",
        "elif qkwh <= 1000 and instalacao == \"C\":\n",
        "    print(\"Esse é o preço a se pagar: \", 0.55*qkwh)\n",
        "elif 5000 > qkwh > 1000 and instalacao == \"C\":\n",
        "    print(\"Esse é o preço a se pagar: \", 0.60*qkwh)\n",
        "elif qkwh <= 5000 and instalacao == \"I\":\n",
        "    print(\"Esse é o preço a se pagar: \", 0.55*qkwh)\n",
        "else:\n",
        "    print(\"Esse é o preço a se pagar: \", 0.60*qkwh)\n",
        "\n",
        "# demorei bastante nessa porque demorei para perceber que o fato de ser R, I ou C iria modificar o preço porque tem quantidade de kwh que se encaixa em 2 condições da tabela ao mesmo tempo.\n",
        "# então, para dar certo, o usuário tem que digitar a sigla do tipo de instalação e depois o código vai ver em qual, dessas da instalação, a quantidade se enxaica.\n",
        "# depois vai multiplicar a quantidade de kilowats hora pelo preço da unidade dessa medida.\n"
      ]
    },
    {
      "cell_type": "markdown",
      "source": [
        "7. Vamos calcular o valor da fatura de celular. O programa deve ler o valor de minutos usados no mês e imprimir valor da fatura.\n",
        "Os planos da empresa são bem interessantes e oferecem preços diferenciados de acordo com a quantidade de minutos usados por mês. Abaixo de 200 minutos, a empresa cobra R\\$ 0,20 por minuto. Entre 200 e 400 minutos, o preço é de R\\$ 0,18. Acima de 400 minutos, o preço por minuto é de R\\$ 0,15."
      ],
      "metadata": {
        "id": "jxV7VcAiyHD6"
      }
    },
    {
      "cell_type": "code",
      "execution_count": null,
      "metadata": {
        "id": "G3p6Q1ZiyRd6",
        "colab": {
          "base_uri": "https://localhost:8080/"
        },
        "outputId": "08a900f5-813f-4853-a966-a3df8f3a0948"
      },
      "outputs": [
        {
          "output_type": "stream",
          "name": "stdout",
          "text": [
            "Digite o valor de minutos usados: 420\n",
            "63.0\n"
          ]
        }
      ],
      "source": [
        "minutos = int(input(\"Digite o valor de minutos usados: \"))\n",
        "\n",
        "if minutos < 200:\n",
        "    print(0.2*minutos)\n",
        "elif 200 <= minutos <= 400:\n",
        "    print(0.18*minutos)\n",
        "else:\n",
        "    print(0.15*minutos)\n",
        "# o usuário vai digitar a quantidade de minutos que ele usou e, a depender disso, vai ser direcionado já pra um plano.\n",
        "# faz as condicionais que o código vai analisando em que parte aquele número se encaixa e calcula o preço multiplicando esses minutos pelo preço por minuto."
      ]
    },
    {
      "cell_type": "markdown",
      "source": [
        "8. Escreva um programa que leia um número e imprima se o número em questão é par ou ímpar."
      ],
      "metadata": {
        "id": "I_aCn96eyHD7"
      }
    },
    {
      "cell_type": "code",
      "execution_count": null,
      "metadata": {
        "id": "xsh3TTdRyRtN",
        "colab": {
          "base_uri": "https://localhost:8080/"
        },
        "outputId": "46d85bf7-cec9-4c0c-e64d-22c29a3e64ef"
      },
      "outputs": [
        {
          "output_type": "stream",
          "name": "stdout",
          "text": [
            "Digite um número: 5\n",
            "Ele é ímpar.\n"
          ]
        }
      ],
      "source": [
        "num = int(input(\"Digite um número: \"))\n",
        "\n",
        "if num % 2 == 0:\n",
        "    print(\"Ele é par.\")\n",
        "else:\n",
        "    print(\"Ele é ímpar.\")\n",
        "# simples, recebe o número digitado pelo usuário, faz condição para o resto da divisão por 2 ser 0 se for par, se não, é ímpar."
      ]
    },
    {
      "cell_type": "markdown",
      "source": [
        "9. Escreva um programa para exibir os números de 1 a 100. Em seguida escreva os números de 50 a 100."
      ],
      "metadata": {
        "id": "9tzTwO5_yHD-"
      }
    },
    {
      "cell_type": "code",
      "execution_count": null,
      "metadata": {
        "id": "0mVi4-NiySA3",
        "colab": {
          "base_uri": "https://localhost:8080/"
        },
        "outputId": "4bf442bc-89ce-441d-883f-111bb160ac6b"
      },
      "outputs": [
        {
          "output_type": "stream",
          "name": "stdout",
          "text": [
            "0\n",
            "1\n",
            "2\n",
            "3\n",
            "4\n",
            "5\n",
            "6\n",
            "7\n",
            "8\n",
            "9\n",
            "10\n",
            "11\n",
            "12\n",
            "13\n",
            "14\n",
            "15\n",
            "16\n",
            "17\n",
            "18\n",
            "19\n",
            "20\n",
            "21\n",
            "22\n",
            "23\n",
            "24\n",
            "25\n",
            "26\n",
            "27\n",
            "28\n",
            "29\n",
            "30\n",
            "31\n",
            "32\n",
            "33\n",
            "34\n",
            "35\n",
            "36\n",
            "37\n",
            "38\n",
            "39\n",
            "40\n",
            "41\n",
            "42\n",
            "43\n",
            "44\n",
            "45\n",
            "46\n",
            "47\n",
            "48\n",
            "49\n",
            "50\n",
            "51\n",
            "52\n",
            "53\n",
            "54\n",
            "55\n",
            "56\n",
            "57\n",
            "58\n",
            "59\n",
            "60\n",
            "61\n",
            "62\n",
            "63\n",
            "64\n",
            "65\n",
            "66\n",
            "67\n",
            "68\n",
            "69\n",
            "70\n",
            "71\n",
            "72\n",
            "73\n",
            "74\n",
            "75\n",
            "76\n",
            "77\n",
            "78\n",
            "79\n",
            "80\n",
            "81\n",
            "82\n",
            "83\n",
            "84\n",
            "85\n",
            "86\n",
            "87\n",
            "88\n",
            "89\n",
            "90\n",
            "91\n",
            "92\n",
            "93\n",
            "94\n",
            "95\n",
            "96\n",
            "97\n",
            "98\n",
            "99\n",
            "\n",
            "50\n",
            "51\n",
            "52\n",
            "53\n",
            "54\n",
            "55\n",
            "56\n",
            "57\n",
            "58\n",
            "59\n",
            "60\n",
            "61\n",
            "62\n",
            "63\n",
            "64\n",
            "65\n",
            "66\n",
            "67\n",
            "68\n",
            "69\n",
            "70\n",
            "71\n",
            "72\n",
            "73\n",
            "74\n",
            "75\n",
            "76\n",
            "77\n",
            "78\n",
            "79\n",
            "80\n",
            "81\n",
            "82\n",
            "83\n",
            "84\n",
            "85\n",
            "86\n",
            "87\n",
            "88\n",
            "89\n",
            "90\n",
            "91\n",
            "92\n",
            "93\n",
            "94\n",
            "95\n",
            "96\n",
            "97\n",
            "98\n",
            "99\n"
          ]
        }
      ],
      "source": [
        "i = 0\n",
        "while True:\n",
        "    if i == 100:\n",
        "        break\n",
        "    print(i)\n",
        "    i += 1\n",
        "    continue\n",
        "print()\n",
        "i2 = 50\n",
        "while True:\n",
        "    if i2 == 100:\n",
        "        break\n",
        "    print(i2)\n",
        "    i2 += 1\n",
        "# para fazer a escrita em seguida eu pulei com print() no meio e criei um outro contado de nome i2 e repeti o processo, só que com começo em 50."
      ]
    },
    {
      "cell_type": "markdown",
      "source": [
        "10. Faça um programa para escrever a contagem regressiva do lançamento de um foguete. O programa deve imprimir \"10, 9, 8, ..., 1, 0 e Fogo!\"."
      ],
      "metadata": {
        "id": "udiNuu1jyHD_"
      }
    },
    {
      "cell_type": "code",
      "execution_count": null,
      "metadata": {
        "id": "mQW0UNcSySOa",
        "colab": {
          "base_uri": "https://localhost:8080/"
        },
        "outputId": "72656a2d-7a28-4659-c1e3-45064102ab70"
      },
      "outputs": [
        {
          "output_type": "stream",
          "name": "stdout",
          "text": [
            "10\n",
            "9\n",
            "8\n",
            "7\n",
            "6\n",
            "5\n",
            "4\n",
            "3\n",
            "2\n",
            "1\n",
            "0\n",
            "e Fogo!\n"
          ]
        }
      ],
      "source": [
        "i = 10\n",
        "while True:\n",
        "    if i == -1:\n",
        "        break\n",
        "    print(i)\n",
        "    i -= 1\n",
        "    continue\n",
        "print(\"e Fogo!\")\n",
        "\n",
        "# usei i-= 1 pra ir diminuindo e ficar em ordem descrescente e defini que começaria em 10 antes de apresentatar o laço.\n",
        "# usei if i == -1 porque não estava conseguindo fazer com que chegasse até 0 e assim foi."
      ]
    },
    {
      "cell_type": "markdown",
      "source": [
        "11. Escreva um programa que imprima os 10 primeiros múltiplos de 3. (Pode ou não considerar o 0)"
      ],
      "metadata": {
        "id": "SqnXG7w8yHD_"
      }
    },
    {
      "cell_type": "code",
      "execution_count": null,
      "metadata": {
        "id": "vVwB6J_gySlM",
        "colab": {
          "base_uri": "https://localhost:8080/"
        },
        "outputId": "7665b09d-ad97-432c-9c52-d5ff8be544bc"
      },
      "outputs": [
        {
          "output_type": "stream",
          "name": "stdout",
          "text": [
            "0\n",
            "3\n",
            "6\n",
            "9\n",
            "12\n",
            "15\n",
            "18\n",
            "21\n",
            "24\n",
            "27\n"
          ]
        }
      ],
      "source": [
        "for i in range(29):\n",
        "    if i % 3 == 1 or i % 3 == 2:\n",
        "        continue\n",
        "    print(i)\n",
        "# para i \"in rage\", ou seja, até 29, pq até lá já tem os 10 primeiros múltiplos. fiz condicional com % para \"pular\" os números que fizesse a divisão por 3 e tivesse resto 1 ou 2.\n",
        "# percebi depois que era mais fácil simplesmente mostrar os números com resto 0 kkkkk mas já fiz deixa assim."
      ]
    },
    {
      "cell_type": "markdown",
      "source": [
        "12. Escreva um programa que leia o valor de um número e imprima a tabuada deste número."
      ],
      "metadata": {
        "id": "jjqhQ2z7yHEA"
      }
    },
    {
      "cell_type": "code",
      "execution_count": null,
      "metadata": {
        "id": "0SlXSS_GySyn",
        "colab": {
          "base_uri": "https://localhost:8080/"
        },
        "outputId": "72147d1d-1f94-40d0-c259-26866452ce74"
      },
      "outputs": [
        {
          "output_type": "stream",
          "name": "stdout",
          "text": [
            "Digite seu número: 8\n",
            "('Essa é a tabuada do seu número:', 0, 8, 16, 24, 32, 40, 48, 56, 64, 72)\n"
          ]
        }
      ],
      "source": [
        "numero_digitado = int(input(\"Digite seu número: \"))\n",
        "tabuada_numero = \"Essa é a tabuada do seu número:\", numero_digitado*0, numero_digitado*1, numero_digitado*2, numero_digitado*3, numero_digitado*4, numero_digitado*5, numero_digitado*6, numero_digitado*7, numero_digitado*8, numero_digitado*9\n",
        "print(tabuada_numero)\n",
        "\n",
        "# dboas só pedir e guardar a informação do número que o usuário vai digitar. e fazer a variável da tabuada para mostrar, multiplicando a variável de 1 até 9 e pronto."
      ]
    },
    {
      "cell_type": "markdown",
      "source": [
        "13. Faça um programa que leia um ano qualquer e mostre se ele é bissexto.\n",
        "\n",
        "Para ser bissexto, o ano deve ser:\n",
        "*   Divisível por 4. Sendo assim, a divisão é exata com o resto igual a zero;\n",
        "*   Não pode ser divisível por 100. Com isso, a divisão não é exata, ou seja, deixa resto diferente de zero;\n",
        "*   Pode ser que seja divisível por 400. Caso seja divisível por 400, a divisão deve ser exata, deixando o resto igual a zero."
      ],
      "metadata": {
        "id": "_625QLVkyHEB"
      }
    },
    {
      "cell_type": "code",
      "execution_count": null,
      "metadata": {
        "id": "bT3gyzrhyTOD",
        "colab": {
          "base_uri": "https://localhost:8080/"
        },
        "outputId": "aa249a3e-a42d-4634-e1ac-0eb475a19c67"
      },
      "outputs": [
        {
          "output_type": "stream",
          "name": "stdout",
          "text": [
            "Digite seu ano: 2014\n",
            "Esse ano não é bissexto.\n"
          ]
        }
      ],
      "source": [
        "ano_digitado = int(input(\"Digite seu ano: \"))\n",
        "if (ano_digitado % 4 == 0 and ano_digitado % 100 != 0) or (ano_digitado % 4 == 0 and ano_digitado % 400 == 0):\n",
        "    print(\"Esse ano é bissexto.\")\n",
        "else:\n",
        "    print(\"Esse ano não é bissexto.\")\n",
        "\n",
        "#não tive certeza nessa, mas minha interpretação é que pro ano digitado ser bissexto ele tem que ser múltiplo de 4 e 100 ao mesmo tempo.\n",
        "#ou múltiplo de 4 e 400 ao mesmo tempo. não entendi porque o ano bissexto não poderia ser dividível por 100 já que o ano 2000 foi bissexto e é? 🤷‍♀️"
      ]
    },
    {
      "cell_type": "markdown",
      "source": [
        "14. Desenvolva um programa que leia o comprimento de três retas e diga ao usuário se elas podem ou não formar um triângulo.\n",
        "\n",
        "Para que os três segmentos formem um triângulo, existe o que conhecemos como condição de existência, que é a seguinte: a soma de dois lados é sempre maior que o terceiro lado."
      ],
      "metadata": {
        "id": "F64OlWeFyHEC"
      }
    },
    {
      "cell_type": "code",
      "execution_count": null,
      "metadata": {
        "id": "P3b1TNtEyTni",
        "colab": {
          "base_uri": "https://localhost:8080/"
        },
        "outputId": "438d7995-71e1-4aa6-b056-dc4c92f9dbd7"
      },
      "outputs": [
        {
          "output_type": "stream",
          "name": "stdout",
          "text": [
            "Digite o comprimento do primeiro lado:8\n",
            "Digite o comprimento do segundo lado: 5\n",
            "Digite o comprimento do terceiro lado: 3\n",
            "Não é um triângulo.\n"
          ]
        }
      ],
      "source": [
        "comp_reta1 = int(input(\"Digite o comprimento do primeiro lado:\"))\n",
        "comp_reta2 = int(input(\"Digite o comprimento do segundo lado: \"))\n",
        "comp_reta3 = int(input(\"Digite o comprimento do terceiro lado: \"))\n",
        "\n",
        "if comp_reta1 + comp_reta2 > comp_reta3 and comp_reta2 + comp_reta3 > comp_reta1 and comp_reta1 + comp_reta3 > comp_reta2:\n",
        "    print(\"É um triâgulo.\")\n",
        "else:\n",
        "    print(\"Não é um triângulo.\")\n",
        "#a soma de QUAISQUER dos 2 lados do triângulo tem que ser maior que o outro é ->obrigação<\n",
        "#declara as variáveis para o usuário digitar quais são os lados com int(input())\n",
        "#faz a condicional para comparar a soma de dois lados com os outros 3 vezes até satisfazer todos, usando AND, porque como digitei é obrigação qualquer 2 lados selecionados juntos ser maior que o outro."
      ]
    },
    {
      "cell_type": "markdown",
      "source": [
        "15. Escreva um programa que calcule a soma dos primeiros n números pares positivos, onde n é um número inteiro positivo inserido pelo usuário. O programa deve continuar solicitando a entrada de um inteiro positivo caso o usuário digite um valor negativo."
      ],
      "metadata": {
        "id": "yfWSFQnnyHED"
      }
    },
    {
      "cell_type": "code",
      "execution_count": null,
      "metadata": {
        "id": "c1dbuCkAjOVx",
        "colab": {
          "base_uri": "https://localhost:8080/"
        },
        "outputId": "041b06f9-37d3-4f7c-c977-be39778f2197"
      },
      "outputs": [
        {
          "output_type": "stream",
          "name": "stdout",
          "text": [
            "Digite um número inteiro positivo, que será n, para calcular a soma dos n números pares positivos: -10\n",
            "Digite um número inteiro e positivo, por favor 😿.\n",
            "Digite um número inteiro positivo, que será n, para calcular a soma dos n números pares positivos: 5\n",
            "A soma dos primeiros 5 números pares é: 30\n"
          ]
        }
      ],
      "source": [
        "soma = 0\n",
        "contador = 0\n",
        "numero = 2\n",
        "\n",
        "while True:\n",
        "    n = int(input(\"Digite um número inteiro positivo, que será n, para calcular a soma dos n números pares positivos: \"))\n",
        "\n",
        "    if n <= 0:\n",
        "        print(\"Digite um número inteiro e positivo, por favor 😿.\")\n",
        "    else:\n",
        "        while contador < n:\n",
        "            if numero % 2 == 0:\n",
        "                soma += numero\n",
        "                contador += 1\n",
        "            numero += 1\n",
        "# soma += numero vai somando e guardando o número na variável soma a cada vez que o contador roda, o contador vai rodar até o n, número que o usuário vai digitar\n",
        "\n",
        "        print(\"A soma dos primeiros\",n, \"números pares é:\",soma)\n",
        "        break\n",
        "    #teste: 0+2+4+6+8+10+12+14 = 6+6+18+12+14= 12+30= 42\n",
        "    #considerei o 0 como número par positivo (não sei se é certo), se não for só trocar a vairável \"numero\" para começar pelo 2."
      ]
    }
  ]
}