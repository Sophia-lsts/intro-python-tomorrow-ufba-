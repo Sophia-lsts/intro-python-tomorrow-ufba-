{
  "nbformat": 4,
  "nbformat_minor": 0,
  "metadata": {
    "colab": {
      "provenance": [],
      "include_colab_link": true
    },
    "kernelspec": {
      "name": "python3",
      "display_name": "Python 3"
    },
    "language_info": {
      "name": "python"
    }
  },
  "cells": [
    {
      "cell_type": "markdown",
      "metadata": {
        "id": "view-in-github",
        "colab_type": "text"
      },
      "source": [
        "<a href=\"https://colab.research.google.com/github/Sophia-lsts/intro-python-tomorrow-ufba-/blob/main/lista_1.ipynb\" target=\"_parent\"><img src=\"https://colab.research.google.com/assets/colab-badge.svg\" alt=\"Open In Colab\"/></a>"
      ]
    },
    {
      "cell_type": "markdown",
      "source": [
        "![image.png](data:image/png;base64,iVBORw0KGgoAAAANSUhEUgAAAUsAAABBCAYAAABYW4ZMAAAgAElEQVR4Ae1dCbgUxdW9LO4IRo1LXGIiGuMaNd+vRklI1CjLmxEVRY2KRlFiNKjBEBMVFQmKCgZNlOCeqFEUQeX1sMgiiiggboiIyCIRFfGxCQ8enJ8zMzVT01NV3T3LA7Xv971X1dXVt6pvdZ+51XXvLZGYYgnEEoglEEsglkAsgVgCsQRiCcQSiCUQSyCWQCyBWAKxBL7OEoBIE5wiOyApeyEpB6JGDsCpsifLvs73Ffc9lkAsgVgCJUsAnaUZknIUktILSRmKhLyJhKxGQmD5W4mETEdCHkON9MAp8hP0lqYldyC+MJbAZiABagGw/M3bDPoXd2ETSSANkDXyayTkUSRkmQUUbWBpKl+ChNyHhBxLrXQT3VbcbCyBkiUQg2XJovtmXojO0iKtDSbk4woApAk0WTYbCbkYnWXLb6YU47v6JkogBstv4qiWcE9oK82RkKuQEGqANpCrdPkCJOTCWNMsYcDiSxpdAjFYNrrIN78GkZQ2SMg7jQiSftCdjIQcuvlJJu5RLIG8BGKwzMviW5fLfpfsg4Rs2IRAqYBzbXr6H3/P/NY9h1+XG47B8usyUhXuJ9rJd5GQCZsBSCqwzKRJGYaEbF/h243ZxRIoWwIxWJYtwq8fA3SQHyIhcyID5RktgN4nA0/eAkweBsx/B1jyMbCqLvO3ZCHw0ZvApCeBx3sDf/klcPrWhWAY5ntojUwlmH/9JBv3+JssgRgsv8mja7g31MhBSMji0EDZqTnQ7zRgynCgYR0iU/1qYOLjGZBNNokCnB/QyN1wC3FRLIFNIoEYLDeJ2DdNo2lvm7AmQQTJf1wKLJ4bGR+tFyx4F+jfBQgPmu+gg3xn00grbjWWQKEEYrAslId+tLOI/EZEBorIMyIyXkRSIjJURG4VkbNFZEf9ggh5yr2LiPTP8n4xy/tpERkgIpeKyIER+AVWJeggIe+F0ij/dCww7y0r5qVPrKsH5r0NTPeAl58CXnkaeGMUsPC9YA105iTgikPDapkvo51sFXiDlalwiIhcISIPichIERklIo+LyJ82jkuryjSR9mRqKyJ/FZEnsm3UZtvsVlIbQBNJ4WBJoZt4GCAenpZapMTDi+LhWfEwWDxcLbVoK+OwdUltfEsumiEitr+3Ld479OpZ67hO5zdkM5djwnEf3zP0/ZjsQ7zOIRvl9cQ6BNLDDXxMReTN+mF4s41ZIvJ7EdnCxCxsWdqPO7Nw4gaoU5oBT9wIbFhvBsq5bwAPXQNc9VOAdW3fH6mVEnAfuwFY9L6ZF8H2vt/beRTyvjvsvWbr/TfCmDcXka4i8mbAeP/E1wcuQunvgZ4n0PqJ9W8QkUWOdur8FzmPa3GopHCXePhUPCDk35o0mHpISm9EcUGlcqDfoz+fdPY1+CT7MsnRRiVw5ncO/lRYrO6M6oUvN6XGtTkTXwTbPe6jdXzXrBZhq+sqXy8ifUSkmcZPz5I3tQgXD9c5guaROsMoeSTkD1ZgU6B0xnbA9FQxsG3YkFmwufLIsMBWXO/PP89ooMXcgXGPAqduWXyN6pdKk3J6hHvmi2yTpz7mtO101dV5/MDXfpRZWScR+czRJ9XO/3xtmA89HCYeRoYERxeIzhQPZws102DaN6D/jwWzcNZoE8CfCkapMznVMMFYydqf3s9K/sJKH1cdLAHsB6A7gAcATALwLoB5AGYA4Bv+dwCnb0xNwgwDlseKyCcVkNWTIkUufNRIPq4A73oRifzrnV35dgW9AM7aAZj9WjGUzZkG/PGoYCBTgBaUXn8isGh2cTucyp++TVA7S9A59MviAkAFlgSwryKMy+7qjcumYcCSIHSTamOrrbbCiSeeiL59++LZZ5/F9OnTMWfOHLz//vt4/fXXMWzYsJUAegE4CiYA4xTaw0Dx0FABoNRB9EVJwf9j4Lvd9OE0dS+G9MuNCgO19FKJn7uCsOniUpmLpL99U6mxtVFD3raTlSovGywxTrbe+Dt5NDw5D570QK30xJiWV2Dx0Duxfs2bxW+XtWQtgGEAjtOEGgSWv4z40gTJbbDW9o9EhA9R0DVhz3Owf6XxD8yiRl5wapWdtwX4DdFPw24HOm0RBGDRz1ODHfuQv7WMKZJrap8BYl22rnsPAsv2IuJ6cUzjQXDUKQxY3syxb926Ne655x7U1dUV37e9hMrA9QAy7Y7BD8XDjAqDpA6YXwqn5m7qFfAs81tsKcQflQUBvDkmY0thnr3mTAf/ZSKZ7+Kmga9kWUlgiXHSHLXSBZ548GQNPEHub1oH4KsPbY/RkqxG+XpWw/zKUtEDwKmDCywJql84hFiqnM7auAi0zcZFoNlV4P1p9lcy8LlBjbRzAiUBiDaROjWsBQacFx0Eg7RK//kHrtZbzeRHDAxql55GYb4Pu8CSY86XI+rY+qeqQWDZvlWrVhg0aBAaGhqK7nXdunX44IMPMHXqVMyYMQPz588vqpMtWDatDrc1S2FxFYFSgeb69CKR/ckKmopzcbIU+mnI8eAP3C6lNJBdQLONOT+RpclWoVLlkcEyC5Lzc+CogHLU1sCCewsfmg3rgE+HAW92AV7cZS1q5T6MkZ1yNwc0AXAAgB4ACKA6rbr//vv5Ydh2r65vGLyG0+cpIjIhC3wNDl56G5zSDwqoS41zanaVnf1gSDydhyv/d3X/rhQJedUJllxg0YkLO307BQFW5c7fe5neeiYf1H4ybY3gum2ec4HlKxHkrMaAi51+coHl4jZt2iz86KOPCu5v3rx56NOnD44++mhsscUWincubdmy5UQAJwPgS7BMv3jiUmCP8aEXcRT4lZamcKH/ZrXj6Q75faDVi5L9m4NnTj7ZOrQUiUr8oVvsaOM0xZDfzGx/ro+q/Nhsu04vb60aCkrhyY7w5LkikCRYjmkFLOWzotGih4Dxe+c1TgWqnnyGUfJrU3sA2gKYqnHBTTfd5Be465hA90cRMa2U8wW5JEDwLt4rs+ZCB4vZB3o3EfmziCx3DCz5rxZxe7igoxzvBMqL9gHqfUr5P7tXDgj9mqTt+Imb9KEC6j4Dzv6Oqx8bGJndNPZamQssXeOzSkReE5ERIjJMRMaJyEIRMa1SW8GyU6dOWL16de6+Fi1ahK5du6J58+aq7c9F5KWN79ez2T8COH88eZwmAK2W1qPv6vXYoBh9vBo4aFKjAOZ6qcXxqi++9LqAZ/MAX/0wh1zAVLIJSieGYeirc4SDP9+l7Xz1jYfWAc9qOsaLSilErewDT2YbgXL0tsCXr6hnAqhfDLx+ggkk9bL1SEl3U18ANAXwVwA5G5gbb7wxaBB4/mGRUH7JXN1+xzEAprbe2DgVUIsLpm7rZfwB+jCA/+X6Bf48gkyF6JGj0/h/uwCqeueSTTP2mXpfav8Z1B61dhdFAUtqjf8SES7y2awZ+CPmJ+O70759e3CKreiJJ55Ay5Yt+Tzwc8+NIvJjP6PsMbUfPld5qsWIfScC0zQd89N6oPXERgHMxTIGhf3J9IxgaHq+VVnP/A2Eyh0UwE/xVekGiyLjaow2rep6f0rb5lBkHPAs44pFSscLshtq5UMjUFJb/OQJ9WwBq2bbtEkdKPX8RbY7BZBoaGioV8zPOeccv6D04ztsfCzlP4ywMETgM63UW1ini6k98VdP76Oe92wXo5PshITUWzXLnkcrkWTSpZ8AXVoGAVTx+Yt/kHGF5HT63t8BtySBC/YsrmfTKlX5hXsBq1fk+7S+AaDmq84Xp0vQzWl7GhYs+QPGRbhSqOjdOeCAA7Bq1arcffTu3VuNF+0+o3ki1aKL+ka57Wjguc9ybPHeSqDF6EYBzP9YBOOyz+YnqygUpKkqGeqpU1EwNO763Hauob6xqGjAtZezImCZXsjx5BUrUL7dNf8UrF4AjN9TB8Iw+QbUir76XXCjt99++9/Xr88omCtWrMD3v/99Xegqz+mWTaso4Oc7IMAqHq6UK+6lED2FbHxX2BgiId0dQJPx885LHbjzNy5gKjyn3CDpvWOj2VOA286M4tYIPPynQm5B2mVS0qYeFhmEAUtOg7e1XB+muODd4RT7zTfzhhv9+vVT40Yt2L845OafMRFapMCS6ZajgDFc2szSkIWNApaQkTja0FkXwHERJopiwB8sJSs9fddSzjovG/pkK+KPlM3ygeZ4oT2zCgbc17nKgGWt/NUKlGN2ANZmnwAu5Ez+vzDgaKozH89ZH/yunIIrGjZsmD4gzFOt51SgFKJRs5+f/zjtGVAKcxHhdNzPTz/ey8QXCXnWCpYX7AHQ0FwRPWw4FS7W3orLuv8IoBdPWHpnAtD1e8V8TG0xotFyDQ2oadKsyVQ3U/YP071ny4LAcknRlNfBzHKq4N25+ur86v6oUaPQtGlTjhM1mug/wh4u1YFS5XccCyzMfwrFz15tFMA0zWCCpuJhtTXOzvTnWc9zPYXjpJfp+b0t4+IvdpkM0c00NBUMuK9jZYMlnpM94MlqK1jO6Z1/7eb2M4Fg+LJU2pXMdONd+av/1lt5X+fDDz9cFzrdD8uhpT656byZP78c5gHucUUaazqgr2uDMbor6hR2UYcujiuW6leGyzOE2yWtXaCXP/dkn0Ked5yTP1cMmlwUsFEQWPawXRihPPfutGjRAkuWZICe0/C99tpLPQNhzJyKm/TwngJIf9pxWl5E1DT956tyPAr7FXdS3nM893TOCENXW3hwcZna+D8t5ylfXhuG6OevxsOf/jYMA1UnN+AGhuWDZa3caQXK1BZ5rXJdHTBm+/DAmF8V16+pw3Dj4kzazrJdu3a5p+zRRx/VhRZkiKtkZUtpKKvz0/PUWkOr+ZYGhjv4894KCB3lCIc2BlDbU0T/bPfKcwasqB3Wfaquip5Sez1zexfwZc5dun8h7wmPBV1jWoCgPFxgyRXvFgVCK+0g9+5069Yt129t+h1lqpjvwSj8NAjwxn+Raw6HvNwogMmFKT+lDe4tzybtWMPEM7CZcakFPC666e+Tnn/V3yHDsctkiFPzSDFTcwNu6FRZYIknZUt48oUVLKfV5Ef8o/4Z0BvdAnj9eGBaR2DifjoQhs1fYBBYGiybNGmCWbNmpdvkr/+2225LwdNuMpTZgIGvKuJKqj6Iep5G6eUSp5s6Tz1fpCEhKedZwZLTWhqdK5oxJgiMMucnP6OuKD19flC4thi1SNGXi93X1Fi9mVxgmTPPKXNgcu/OxIkZkzcan++2225qfGh+Fp1SuCEILGs07fLWucVg2WoMcOLrQIdpwA8mFJ8P4m84T3tgPzFCk7pXU2ozPVJ8aJpHZcJ0rZoxEeyIQ6Y6LKORvIto4mi7NrI3UG7ADUzLA0tPTrACJTXD+XerVwJ45XDgg+uABp/d39IJwMR9wwIl6z1nkFzOg+e6667LtXnyySdTiDT/KZf6GmSnBqgSL2ZvB3+aRBQQaoR76phBhn7eOj3yZ3M9/XoG0KgEEaTDrJS/cE9ha1wp1/tTmDeajgVolqWBWIGU0wfpd4deOmoBMZVKqXFnyghT0SkTVs05vd4iBXyZtU6asTwPhizvNxeozxnMZUTpfV62Qft6GYmWhptx2UfS19tFjACky0vlGXBE/87rer/ofuki2iwrvv6U0bwiUfXAMiU3O8Fy2fTMSNZ/Ciz4R+ELoh/R5jL8CjnVfz/lwJKeE4qydpcmcPVfH3TMl88/EOr4gaCLQ5yn3Zri508JpAWEhPzXCi4Dz1e3n0lv7ugCosw5aoSVIq54F4Jd8fE9+Sltutnrji+uo3gk0/FAC+4/e+DSLDuYLiihLP3unHDCCTnp9OzZUx+faKZCqgMelhg0uyLwHJb9KsKlOmVG9Nj/cl0pysz7Ctj5xTywhmmjoE4tTODvmorPVbdkSW2frzhT08llh8nAHi6iAbs+Jipfiq2mVBMsn3GCZUPWHq1uStHAFhUsGQW81jbc3xfjO2e9eOjJ07ZXr1792rZtC/6ddNJJOdZjx47FWWedRf/xdL1S0yuuuOJuxd+fnn/++UNL5auuc/Hv1q0bI1IU9r9vp9dwbVsY/8YwaJNG/EaogMeWLpypXVBmdsbo4Pau/UVhIzSe534+pr8xD3BpnquEBX933HHHYto4mv5mzJhxv79+Kcd1dXX9yH/kyJG5/j7yyCO5NkvhuXwd/tZ7DhDmb5z23fK+hcCji3LdsGYGzS8DLFM4x4BKrmkugclmZULTIltM15MN7bh+/EyLT2RBbLO5J082tBFYVE2wnGwFSy7mKFqRX6VWRXHaSBIIs7hDA/FKEVfGbaCsyhlBPaaqSOCz+jLA0sMfLGji8jSzTZO5tqC0PD2lW6lpYegaS31eS5tPEzH+qc5bz4ddSS/gWz2w9GSGFSxf3Dn/MKyyRNLO14hz1ZJAUNBdxrmsJHEXSAWKtpSeOzFVTQL8rlkwvQ4bYT0FG/D1c4CSzSKAn7908FL5RwvQKX/Ajetsi0H0JjIRP4Epvv40TOzOIp7VBMspVrBk0AxFK95RuThtbAkQDG2gxXIaq+sG7OX2L2h1m21efnC5rcTXWySwdG2JQJkB1CLLiyyaMIK/H4zUMc1zuJeVTjTboueMqqOnLjM+RjfT6+p5f/AOrqLTVlOvo/JB3zn1vhbkqweWtTLCCpZcDV+fddkO882Si0F0iwzzt/LtP26Mok4fyvQfQ7Qx4gv/LrroImzIvvyMTN2nT59Rql6p6aBBgx5T/P1ptfn379//2aJ+P3D1O7irK4x/r7K6Rt32dYMlweuTOdoFZWbfHh/cHvfu0YmLQtQ2TX9/OIzfhKmKFvztv//+M/fZZx+Y/vr163ecv34px8OHDz+U/G+++eZcb7t06ZJus3Xr1h+XwvPxRTh8nwlAmL/+WvS3xHSgO/cOCKCHF5UFlucVIEfhgWsq7nfK4EZ9Crj0lBG5GAPWRoySrtfX84xGr5PrW+pf9IpR8tUDS09udYLliqxv8ZpFwGI+8xZatxx46YCw5kOr0Du9e54ug9xq+BFHHJFrhKH9szs36nVLyfMXVx84PR9kPhGmPRd/02r4U1ZtcdBvc/efztzw62DwGjWk8JpyjrgZmkuT5bm7LihsoffJrmtswU9cCwJhIz8FjU363WGUIUWXX365GvvSze481IWZJj/xiWoV2GEM0MQDRmveovmzmdyStcDe5cXDpPuhjVwxDLgbqk62vagYbMRFtC6waaR+by6XyZBfC3W1WXCuemCZko5OsFyovYSTDgEW/mtjFH3NZ5ljzAhE0fzFuXWpn3JgSdMORclk8psKlrdaAalXG3X7mZTRyoPAi5uNVYKo0V+6X3B7w+8sbI2RjWx9TKa3rfWPN48bDSx33nnn3GyF++pkfzjLActXgsCyaQpgqDbSrJV5bXH7MYDJfOjtFcDB5cfBdAXHYLANde/+lAFf1FbG3IaXGqS/Do+pcQYRY4yarmUZjeQV2UyGZqoKpaQusGSA0pIJKdkOnqywAuaMM/MvxQc3ZDTHCftkptozfwe89isg1TysRqnqXWbocA4sp03LuD7U19eDxsTfSM0yKRdYwYVh2PRtbl9/3g5EOkDpLpL5UYuW4y6OOk9bfi73oMsSfdFdQT5qzAGgGxMs+fJyawgSn6sddtiBz1XpYJlC3yCwPF7bD8BkDrTfRODCtzNT859PAQiuQTwDzgc5b/AboWsPHRWom5GiTGDHUIRhXFBdK9y3ZN99YprNZIh2oSWTCyxN0aEjNYSUDLGC5ehtAE6xSWs+AXhs9vkOW86AHaZfvzRYtmmT16qeeeYZNWDVniZXm3/xNLxGjnaC0vuvZmTO/6tXAoz2YwMuVU6NUI83mecQLsd4mefuEtwOPXz0BSW6Wao+mNJThaukJmo0zZIv/5VXXpmTQ69evcoDSw9tAoALI7TYlkdNLhsIg4E0hdtMQvaVucIVKl9vW1CLsM4h1Ext+yfxuynJBaj8llkyucCS24SWRfCkNTxpsILgvAG5hwzv9woLirZ6NmDqSr/wSZPyOxjSeDz7C2e7Jsp9u74pVpt/MVh2li2RkK+sIEPjbp0GnOsGJAVSN5wE1GvxwXQervyqZQAjFik+rpTulzrdfbH9uqRTe2tUsKQ2uXIld7EFli5dil133ZVaVmnELXA9zLMB5nGaD8erdY0AlJmV8MNC3IxrKk5Nm/aTtghdYUO6sRsukyCuzNvOKzANcSvmKlR9FXCYUv+yv5mLoxSuyEPjdgcashGy6dETfiHHD5if4XlrJOqu3btzy/EMjRs3Tr/PaoNZtfkXgSWHAgnxrODEcGk6fTjdDkh+YLvmZ8CShfrV7jyDYlx2YDj+tPn8fEGe39o1mf3M/X3IH9/veOwaFSwpcn1VfOjQofwuVzrRptFg/7jdaGBmBpPTcmo/rVHA0mYr6b+/oKm4TamgJ08U19ATHJjFhSabyVB/f4dLOdbBw5/vWApD/Zrst8t3rdrlrHzQVKycmdm4LOp0PGWPmn3llVfesmbNmvTDtXbtWhx00EH6PVYbzKrN3waWV1nBkmDz1ot5UGLupg7hAI3XMtQaV7WXfV7IQz8ioD7YEzhtq/B8uS2FThP+4742KQzqaqNGB0tGsfLt5mjzeLH1OV8+Di3EA/fxzk2Rudqtr4DTN1w/X8W8yf0w39fC3F0OIGNoPP3dU3lTcOFCroVHTR2AaGuDbZkivhdyDnFk+wbABsIG8XQ2g1GyHzz53AiYqaYAfb8V0e5y7Hf8mqPr+Hpb4wCOrq/Pb2HYo0cPNUAqrTaYVZu/DSy/h4SstwImTYZ0+t8HwOlbu8Epr9Fl6nXaGI+UftxDegBD+wFP9QUGXw5wfx/XooyfD4/P3rEwSjq/W7o10uXo7LTJa3SwJBAcc8wx+mZlNO2IFFy24DlOobsCwGYpYLCm0HOXx7KCYmggrNqwpCML+hR84NotVr1z/rRbMNuiGndagNfPWx1zS2tqvmUT9/pVTE0pP5i6iB9dAwm1cig8WWwETLo/rtTiGK58H3j5EBdAqnN9bA0D+A2AXMy3IUOGgN8uffdabTCrNn8jWFImSErKCpYEqHczMRhzmDns9mhgaQK9Uste0jasY4d47OJVk/4uZRt6lm8SsKTYL7jAZycK3AHA5O/s6r9IbzSVWkwiKL6gLegsXwcc+UqjaJXLJIWoboEurc//7vGYHj67uAVhPOvyGjK1oxaYjMyiFKZ8AOJvjDd0j4i0FRHu+bJHNprIKSJChA9tYpTdDvc1I2AyDNsKzQ2BHj5zbrJNy1chJcaN4AHsB2BEDgQAPPjgg2jWrJn/vnhcbTCrNn87WNZI0gk4dCv0B8n426lukHIBWKnnuDOkTl8tD963JylHBTzgmwws+S716NGDMYH0qJKMFqMC2gZ0PXMaQPP3V+Lqz+vzfJatA2gKZNECK1tei86hOlpcicBketdMZXRhLJVcsTT9bRG7KkLXRrg5fyfUceiOYKpsgVrpCU/qikBz7I7AZ8/rrw7ALSfm3QW8emzG7jIlL3CVXW+QG9IDOBXAMJ9l+/ra2tqnDRql6ne1waza/O1gKdIENTLTCZiP3VAoa36x6HVc4wFm306Fdp/szaCL3O0nhT/uQbRJwZJ2lgCSAL4sFDBot8WAnTaTJwFwEIC/AJirX0vj8wPLNywPC6i2SD5Bcuf5KFPxqFva6u27dphU7zdTfzBhnUfkPN2/bEaceqOufORGMU52gCfXwBPf4k8T4N1LgLWGzbE2rKftCqMGE1Hp6JwCMNv3K66eMe5LyoClOaN0w49CtcGs2vytYMkBQUK6OMHylGbAm2OVvDIp7SmvP9ENWKVqkfp1/bsUbnHB1sf/O7jdGvlFiIdtk4NlWv7A3tnntFDGmSP6j4/LnuezPJmWR4aKDW8tx5Pbj8HKRtEoUyjLcFsk7W682PCumfCDs9RSiVtKmHj6ywaX2oDtOtc+L/7GTcc2vqHKMVL2hCdnwJNr4ckAeDIQ4/e6E5+PHIENax3LroZHC6A7RRcAKjT9txcsqV0m5GUnYJ6zE7BA+/xBkXILiMFXRNv3WwdCV54A7d/FkW3OnBS09S2B9KlQD9Qm/GaZfYELPHgAMHjHc5Ss8Yk1F9JIaDCAzCwqs5HZgioC5lqpBbd6qATdGwLIwmw4FtQX8jDhkV4WZTU/qL30edpbTgnRsN4JPR+qkVIqEfT4vQdA340P3RgA8wEsyz54dQD4pnNHrasA/NjQxrcWLCkLdJTDkJAGJ2DSc8YUXWjqC4DLN9sFiqZz/E763svF0DBnWpBNJYFyBeweO/5h3yw0S3+nAOwG4CIAjwCg7y1DX9CujdsGcKOIlwBwc6rTABRvpOdhR/EwtAqAOVNS4KJJpYiblen4YMpXYi8k7qNj4q3KbMGEy77P7UXksYDGVSf8admNV5HBtxosKVfnJmYK1OiOSAN1P9FrZ/gA4Pzdg6fIipc/pSF8anDxghLb4g6T9Fn3X1N8fGmEZ2SzBMsI/XdXTaGdeHijAqC5RGrRU6aWsFrv7iFndfxW6McJ/ThoZ0Z3C5mzXEl3fUK0BRMOwztUnZ+LCMMqMVqIfnP+PMMl0br/olBcN10l+oPy257prxIqOo1dTbxZVm3+oVb50FmaISETAgHpjO2AsdzWx0AN64DXRgB3nAOcv1swuHFXRoaE4747ur+3zvqZ/gDtNYuBsbCsRhjWKwoRWG1jQhffShBN5mxt0FulukS3yBQ6ioenxUN9ROB8TTxcJjR+rx7RacAmnysr2OwljnYOr2A7Tlb8deCGQ+2ziyQ01aGWxt3xGA5pS+fV8cnNSgJICA3VPw4EJgLXbWcAXwTsgLV4LjB1JMB4l9Q8RwwERt+f0RSDXCJpBH/dCYWAaAPMzIo+Zz0x2SRA0KtFe+HiTGaaPkU8vCseZm90fJ0uHkaKh4Hi4VwZaV+Jt7GPy2MJfOskgKQcgoTUhQJMTo25EMN9cypF3FaCkc/Du+rwQCAAAAG0SURBVEF+HOE75bduPOMbjiUQS6CKEkBHOQ4JWR4KMKntcZ8eujSavmeGBVEu6jCC0OnbhNMmM1rmZ0jKgVUURcw6lkAsgVgCbgngFDkSCfk8NGCqKTL37CHovfgIMGeqWetc8QUwa3JmSj7wfOCCPaIApKr7IRKFjgfuO4rPxhKIJRBLoEoSIBhtNFqfFRkwFXCqNNkko312aaWArry0RqagvexWpduO2cYSiCUQSyC6BNBZWiAhD5cNmAo4y09vR7d0kNjoNxNfEUsglkAsgWpLIOsW+ckmBM0PYd9Pp9q3H/OPJRBLIJZAeAmgnbREQgYgIWsbETRXIinXo62ECvMX/m7imrEEYgnEEqiyBHCq7I6EDERCVlYRNL9EQnqjRsretqTK4ojZxxKIJRBLwC2BtKZZI79FQsYjIRsqAJz0Tx+JGjkrIMq5u2Px2VgCsQRiCWyuEkAn2QlJOR0JuRsJmYyEUDMMWvWmadJL6al9jXREZ2m1ud5f3K9YArEEYglUTQJoJ99NewQl5WdcnEFSTgD3LO8gB6NDpN36qtbHmHEsgVgCsQRiCcQSiCVQYQn8P69k2o3B27L0AAAAAElFTkSuQmCC)\n",
        "\n",
        "# Introdução à Programação com Python\n",
        "\n",
        "Desenvolvido por: Laila Mota"
      ],
      "metadata": {
        "id": "tsBSweaOZehV"
      }
    },
    {
      "cell_type": "markdown",
      "source": [
        "Lista de exercícios Variáveis, Tipos de Dados e Operadores\n",
        "\n",
        "Nome: ***Sophia Lima***"
      ],
      "metadata": {
        "id": "NT8fAGNT8v1x"
      }
    },
    {
      "cell_type": "markdown",
      "source": [
        "1. Escreva comentários descrevendo o que o código abaixo faz"
      ],
      "metadata": {
        "id": "Y0gtiQcu1we8"
      }
    },
    {
      "cell_type": "code",
      "source": [
        "nome = 'John Doe'\n",
        "idade = 25\n",
        "cidade = 'New York'"
      ],
      "metadata": {
        "id": "mEt-yY781w8z"
      },
      "execution_count": null,
      "outputs": []
    },
    {
      "cell_type": "code",
      "source": [
        "# Esse código recebe entrada de dados de nome, idade e cidade"
      ],
      "metadata": {
        "id": "EEA1OS8o8L-A"
      },
      "execution_count": null,
      "outputs": []
    },
    {
      "cell_type": "markdown",
      "source": [
        "2. Crie variáveis com nomes descritivos dos seguintes valores\n",
        "    1. Nome\n",
        "    2. Idade\n",
        "    3. Altura\n",
        "    4. Cidade"
      ],
      "metadata": {
        "id": "Q7WOfYNR2PPE"
      }
    },
    {
      "cell_type": "code",
      "source": [
        "nome = \"Sophia\"\n",
        "idade = 17\n",
        "altura = 1.63\n",
        "cidade = \"Salvador\""
      ],
      "metadata": {
        "id": "_eDRHstq8P5_"
      },
      "execution_count": null,
      "outputs": []
    },
    {
      "cell_type": "markdown",
      "source": [
        "3. Utilize os comandos type() e isinstance() para verificar os tipos de dados das variáveis anteriores"
      ],
      "metadata": {
        "id": "HAsveu0a2dJ1"
      }
    },
    {
      "cell_type": "code",
      "source": [
        "type((nome))\n",
        "isinstance(nome,str)\n",
        "\n",
        "type((idade))\n",
        "isinstance(idade,int)\n",
        "\n",
        "type((altura))\n",
        "isinstance(altura,float)\n",
        "\n",
        "type((cidade))\n",
        "isinstance(cidade,str)"
      ],
      "metadata": {
        "id": "B-M9MUTQ8QmC",
        "colab": {
          "base_uri": "https://localhost:8080/"
        },
        "outputId": "1424ac7e-650e-4e79-e69d-7489b4125018"
      },
      "execution_count": null,
      "outputs": [
        {
          "output_type": "execute_result",
          "data": {
            "text/plain": [
              "True"
            ]
          },
          "metadata": {},
          "execution_count": 5
        }
      ]
    },
    {
      "cell_type": "markdown",
      "source": [
        "4. Utilize a função print() para exibir as seguintes mensagens\n",
        "\n",
        "    1. Olá, {nome}!\n",
        "    2. Você tem {idade} anos.\n",
        "    3. Sua altura é {altura}.\n",
        "    4. Você mora em {cidade}."
      ],
      "metadata": {
        "id": "3j177lSj3Vyn"
      }
    },
    {
      "cell_type": "code",
      "source": [
        "# primeira\n",
        "print(\"Olá,\", nome)\n",
        "#segunda\n",
        "print(\"Você tem\", idade, \"anos\")\n",
        "#terceira\n",
        "print(\"Sua altura é\", altura)\n",
        "#quarta\n",
        "print(\"Você mora em\", cidade)"
      ],
      "metadata": {
        "id": "VbtVLSQY8Q4b",
        "colab": {
          "base_uri": "https://localhost:8080/"
        },
        "outputId": "d7d25a6f-fcaa-4bd0-ab50-ef85f9a255af"
      },
      "execution_count": null,
      "outputs": [
        {
          "output_type": "stream",
          "name": "stdout",
          "text": [
            "Olá, Sophia\n",
            "Você tem 17 anos\n",
            "Sua altura é 1.63\n",
            "Você mora em Salvador\n"
          ]
        }
      ]
    },
    {
      "cell_type": "markdown",
      "source": [
        "5. Faça um programa que leia um número Inteiro e mostre na tela o seu sucessor e seu antecessor"
      ],
      "metadata": {
        "id": "HsL5F-4WFwAW"
      }
    },
    {
      "cell_type": "code",
      "source": [
        "número = int(input(\"Digite um número inteiro: \"))\n",
        "print(número - 1)\n",
        "print(número + 1)"
      ],
      "metadata": {
        "id": "Nnp2f4vc8R_V",
        "colab": {
          "base_uri": "https://localhost:8080/"
        },
        "outputId": "fe3cb4d0-4c25-4c5f-f630-175402f3d3cb"
      },
      "execution_count": null,
      "outputs": [
        {
          "output_type": "stream",
          "name": "stdout",
          "text": [
            "Digite um número inteiro: 6\n",
            "5\n",
            "7\n"
          ]
        }
      ]
    },
    {
      "cell_type": "markdown",
      "source": [
        "6. Crie um algoritmo que leia um número e mostre o seu dobro, triplo e raiz quadrada"
      ],
      "metadata": {
        "id": "Kzt3fqWWGD32"
      }
    },
    {
      "cell_type": "code",
      "source": [
        "número = int(input(\"Digite seu número: \"))\n",
        "print(número * 2)\n",
        "print(número * 3)\n",
        "print(número ** (1/2))"
      ],
      "metadata": {
        "id": "2Zmo1L8v8SWA",
        "colab": {
          "base_uri": "https://localhost:8080/"
        },
        "outputId": "3ccaa94c-c12a-473f-b6bd-6d7d4a29995e"
      },
      "execution_count": null,
      "outputs": [
        {
          "output_type": "stream",
          "name": "stdout",
          "text": [
            "Digite seu número36\n",
            "72\n",
            "108\n",
            "6.0\n"
          ]
        }
      ]
    },
    {
      "cell_type": "markdown",
      "source": [
        "7. Faça um programa que leia a largura e a altura de uma parede em metros, calcule a sua área e a quantidade de tinta necessária para pintá-la, sabendo que cada litro de tinta pinta uma área de 2 metros quadrados."
      ],
      "metadata": {
        "id": "hXi52LNaGXMa"
      }
    },
    {
      "cell_type": "code",
      "source": [
        "largura = float(input(\"Digite a largura: \"))\n",
        "altura1 = float(input(\"Digite a altura: \"))\n",
        "área = largura * altura1\n",
        "qtinta = área / 2\n",
        "print(qtinta, \"litros\")"
      ],
      "metadata": {
        "id": "T28gNK0V8Stx",
        "colab": {
          "base_uri": "https://localhost:8080/"
        },
        "outputId": "3c2a8c29-e84f-440c-c92d-df79a39774da"
      },
      "execution_count": null,
      "outputs": [
        {
          "output_type": "stream",
          "name": "stdout",
          "text": [
            "Digite a largura: 50\n",
            "Digite a altura: 3\n",
            "75.0 litros\n"
          ]
        }
      ]
    },
    {
      "cell_type": "markdown",
      "source": [
        "8. Crie uma calculadora diferente para cada uma das operações básicas. Ela deve ler os valores dos números A e B e imprimir o resultado da operação."
      ],
      "metadata": {
        "id": "S-eoPDThqAjo"
      }
    },
    {
      "cell_type": "code",
      "source": [
        "#calculadora de soma\n",
        "n1 = int(input(\"Digite o seu primero número: \"))\n",
        "n2 = int(input(\"Digite o seu segundo número: \"))\n",
        "print(\"Sua soma é\", n1 + n2)"
      ],
      "metadata": {
        "id": "op2mnVG28S8i",
        "colab": {
          "base_uri": "https://localhost:8080/"
        },
        "outputId": "02de5926-96ee-450d-fc20-8834e0987c09"
      },
      "execution_count": null,
      "outputs": [
        {
          "output_type": "stream",
          "name": "stdout",
          "text": [
            "Digite o seu primero número: 4\n",
            "Digite o seu segundo número: 5\n",
            "Sua soma é 9\n"
          ]
        }
      ]
    },
    {
      "cell_type": "code",
      "source": [
        "#calculadora de subtração\n",
        "n1 = int(input(\"Digite o seu primero número: \"))\n",
        "n2 = int(input(\"Digite o seu segundo número: \"))\n",
        "print(\"Sua subtração é\", n1 - n2)"
      ],
      "metadata": {
        "id": "LeRpsuTX8XHF",
        "colab": {
          "base_uri": "https://localhost:8080/"
        },
        "outputId": "39be3c4a-65ec-4586-e23e-c100d60da9bb"
      },
      "execution_count": null,
      "outputs": [
        {
          "output_type": "stream",
          "name": "stdout",
          "text": [
            "Digite o seu primero número: 18\n",
            "Digite o seu segundo número: 9\n",
            "Sua subtração é 9\n"
          ]
        }
      ]
    },
    {
      "cell_type": "code",
      "source": [
        "#calculadora de multiplicação\n",
        "n1 = int(input(\"Digite o seu primero número: \"))\n",
        "n2 = int(input(\"Digite o seu segundo número: \"))\n",
        "print(\"O resultado de sua multiplicação é:\", n1 * n2)"
      ],
      "metadata": {
        "id": "jmby5lyP8XiX",
        "colab": {
          "base_uri": "https://localhost:8080/"
        },
        "outputId": "6357638f-b942-4f70-c697-f5debe10d2c8"
      },
      "execution_count": null,
      "outputs": [
        {
          "output_type": "stream",
          "name": "stdout",
          "text": [
            "Digite o seu primero número: 5\n",
            "Digite o seu segundo número: 6\n",
            "O resultado de sua multiplicação é: 30\n"
          ]
        }
      ]
    },
    {
      "cell_type": "code",
      "source": [
        "#calculadora de divisão\n",
        "n1 = int(input(\"Digite o seu primero número: \"))\n",
        "n2 = int(input(\"Digite o seu segundo número: \"))\n",
        "print(\"O resultado de sua divisão é:\", n1 / n2)"
      ],
      "metadata": {
        "id": "dn32xanp8X3d",
        "colab": {
          "base_uri": "https://localhost:8080/"
        },
        "outputId": "3ebfae00-0288-44da-9a46-9b8a6fee3e3a"
      },
      "execution_count": null,
      "outputs": [
        {
          "output_type": "stream",
          "name": "stdout",
          "text": [
            "Digite o seu primero número: 40\n",
            "Digite o seu segundo número: 8\n",
            "O resultado de sua divisão é: 5.0\n"
          ]
        }
      ]
    },
    {
      "cell_type": "markdown",
      "source": [
        "9. Escreva uma expressão para determinar se uma pessoa deve ou não pagar imposto. Considere que pagam imposto pessoas cujo salário é maior que R$ 1.200,00. Seu programa apenas deve retornar True ou False."
      ],
      "metadata": {
        "id": "QDLQtQAorJZN"
      }
    },
    {
      "cell_type": "code",
      "source": [
        "salário = float(input(\"Digite seu salário:\"))\n",
        "logicot = True\n",
        "logicof = False\n",
        "\n",
        "if (salário > 1200):\n",
        "    print(logicot)\n",
        "else:\n",
        "    print(logicof)\n"
      ],
      "metadata": {
        "id": "-aEttRYM8TWy",
        "colab": {
          "base_uri": "https://localhost:8080/"
        },
        "outputId": "fd186ac6-3e91-408e-d399-2c8bbd7742dd"
      },
      "execution_count": null,
      "outputs": [
        {
          "output_type": "stream",
          "name": "stdout",
          "text": [
            "Digite seu salário:900\n",
            "False\n"
          ]
        }
      ]
    },
    {
      "cell_type": "markdown",
      "source": [
        "10. Calcule o resultado da expressão ((A > B) and C or D), utilizando os valores da tabela a seguir.\n",
        "![image.png](data:image/png;base64,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)"
      ],
      "metadata": {
        "id": "mgTFC0TJsGxw"
      }
    },
    {
      "cell_type": "code",
      "source": [
        "A = 1\n",
        "B = 2\n",
        "C = True\n",
        "D = False\n",
        "expressão = ((A > B) and C or D)\n",
        "print(expressão)"
      ],
      "metadata": {
        "id": "RrDopPbv8T_U",
        "colab": {
          "base_uri": "https://localhost:8080/"
        },
        "outputId": "dde348f4-191a-45c1-a9a1-bd5866620fbb"
      },
      "execution_count": null,
      "outputs": [
        {
          "output_type": "stream",
          "name": "stdout",
          "text": [
            "False\n"
          ]
        }
      ]
    },
    {
      "cell_type": "code",
      "source": [
        "A = 10\n",
        "B = 3\n",
        "C = False\n",
        "D = False\n",
        "expressão = ((A>B) and C or D)\n",
        "print(expressão)"
      ],
      "metadata": {
        "colab": {
          "base_uri": "https://localhost:8080/"
        },
        "id": "SS5eZAx7SzXJ",
        "outputId": "c36ec1f1-7f22-4e52-83f6-17feb1c737de"
      },
      "execution_count": null,
      "outputs": [
        {
          "output_type": "stream",
          "name": "stdout",
          "text": [
            "False\n"
          ]
        }
      ]
    },
    {
      "cell_type": "code",
      "source": [
        "A = 5\n",
        "B = 1\n",
        "C = True\n",
        "D = True\n",
        "expressão = ((A>B) and C or D)\n",
        "print(expressão)"
      ],
      "metadata": {
        "colab": {
          "base_uri": "https://localhost:8080/"
        },
        "id": "if1EKvUxSzsQ",
        "outputId": "9fac245c-55ba-4514-cfdf-4437db6886b2"
      },
      "execution_count": null,
      "outputs": [
        {
          "output_type": "stream",
          "name": "stdout",
          "text": [
            "True\n"
          ]
        }
      ]
    },
    {
      "cell_type": "markdown",
      "source": [
        "11. Escreva uma expressão que será utilizada para decidir se um aluno foi ou não aprovado. Para ser aprovado, todas as médias do aluno devem ser maiores que 7. Considere que o aluno cursa apenas três matérias, e que a nota de cada uma está armazenada nas seguintes variáveis: matéria1, matéria2 e matéria3. Seu código deve imprimir True ou False."
      ],
      "metadata": {
        "id": "C58q1EKducVJ"
      }
    },
    {
      "cell_type": "code",
      "source": [
        "matéria1 = float(input(\"Digite a nota da primeira matéria: \"))\n",
        "matéria2 = float(input(\"Digite a nota da segunda matéria: \"))\n",
        "matéria3 = float(input(\"Digite a nota da terceira matéria: \"))\n",
        "\n",
        "if (matéria1 > 7 and matéria2 > 7 and matéria3 > 7):\n",
        "    print(\"True\")\n",
        "else:\n",
        "    print(\"False\")"
      ],
      "metadata": {
        "id": "dto74EJC8UdU",
        "colab": {
          "base_uri": "https://localhost:8080/"
        },
        "outputId": "d3a2afb6-5f85-4e91-ef96-26c4046ba7da"
      },
      "execution_count": null,
      "outputs": [
        {
          "output_type": "stream",
          "name": "stdout",
          "text": [
            "Digite a nota da primeira matéria: 7\n",
            "Digite a nota da segunda matéria: 8\n",
            "Digite a nota da terceira matéria: 5\n",
            "False\n"
          ]
        }
      ]
    },
    {
      "cell_type": "markdown",
      "source": [
        "12. Escreva um programa que leia um valor em metros e o exiba convertido em milímetros."
      ],
      "metadata": {
        "id": "nqwdYBby2GIf"
      }
    },
    {
      "cell_type": "code",
      "source": [
        "valor1 = float(input(\"Digite o valor em metros: \"))\n",
        "valor2 = valor1 * 1000\n",
        "\n",
        "print(\"Esse é seu valor em milímetros,\", valor2)"
      ],
      "metadata": {
        "id": "RLNzjDKR8Ut2",
        "colab": {
          "base_uri": "https://localhost:8080/"
        },
        "outputId": "79fa5182-bcec-4344-c58a-e8421f3053cd"
      },
      "execution_count": null,
      "outputs": [
        {
          "output_type": "stream",
          "name": "stdout",
          "text": [
            "Digite o valor em metros: 4\n",
            "Esse é seu valor em milímetros, 4000.0\n"
          ]
        }
      ]
    },
    {
      "cell_type": "markdown",
      "source": [
        "13. Escreva um programa que leia a quantidade de dias, horas, minutos e segundos do usuário. Calcule o total em segundos."
      ],
      "metadata": {
        "id": "1kdZG7Zy3Uez"
      }
    },
    {
      "cell_type": "code",
      "source": [
        "dias = float(input(\"Digite a quantidade de dias: \"))\n",
        "horas = float(input(\"Digite a quantidade de horas: \"))\n",
        "minutos = float(input(\"Digite a quantidade de minutos: \"))\n",
        "segundos = float(input(\"Digite a quantidade de segundos: \"))\n",
        "segundos2 = (dias * 24 * 60 * 60) + (horas * 60 * 60) + (minutos * 60) + segundos\n",
        "print(\"Esse é o seu total de segundos: \", segundos2)"
      ],
      "metadata": {
        "id": "uCmSplpk8VH2",
        "colab": {
          "base_uri": "https://localhost:8080/"
        },
        "outputId": "457228ac-232f-4902-8bb4-6fa7ca79d49d"
      },
      "execution_count": null,
      "outputs": [
        {
          "output_type": "stream",
          "name": "stdout",
          "text": [
            "Digite a quantidade de dias: 4\n",
            "Digite a quantidade de horas: 8\n",
            "Digite a quantidade de minutos: 13\n",
            "Digite a quantidade de segundos: 37\n",
            "Esse é o seu total de segundos:  375217.0\n"
          ]
        }
      ]
    },
    {
      "cell_type": "markdown",
      "source": [
        "14. Faça um programa que calcule o aumento de um salário. Ele deve solicitar o valor do salário e a porcentagem do aumento. Exiba o valor do aumento e do novo salário."
      ],
      "metadata": {
        "id": "oDtApkbM_SVX"
      }
    },
    {
      "cell_type": "code",
      "source": [
        "salario = float(input(\"Digite o seu salário: \"))\n",
        "porcent = float(input(\"Digite a porcentagem de aumento: \"))\n",
        "aumento = (salario * porcent) /100\n",
        "nsalario = aumento + salario\n",
        "print(nsalario)"
      ],
      "metadata": {
        "id": "Td8-qM6B8VWQ",
        "colab": {
          "base_uri": "https://localhost:8080/"
        },
        "outputId": "00399127-d214-43ab-a193-97302dc0bdfe"
      },
      "execution_count": null,
      "outputs": [
        {
          "output_type": "stream",
          "name": "stdout",
          "text": [
            "Digite o seu salário: 2800\n",
            "Digite a porcentagem de aumento: 15\n",
            "3220.0\n"
          ]
        }
      ]
    },
    {
      "cell_type": "markdown",
      "source": [
        "15. Faça um programa que leia o comprimento do cateto oposto e do cateto adjacente de um triângulo retângulo. Calcule e mostre o comprimento da hipotenusa."
      ],
      "metadata": {
        "id": "yyRx7vR7328-"
      }
    },
    {
      "cell_type": "code",
      "source": [
        "cato = float(input(\"Digite o comprimento do cateto oposto: \"))\n",
        "cata = float(input(\"Digite o comprimento do cateto adjacante: \"))\n",
        "hipotenusa = ((cato ** 2) + (cata ** 2)) ** (1/2)\n",
        "print(\"Esse é o valor da sua hipotenusa:\", hipotenusa)\n"
      ],
      "metadata": {
        "id": "ybkhOfms8Vj7",
        "colab": {
          "base_uri": "https://localhost:8080/"
        },
        "outputId": "2464ed4b-d4b6-462e-8c68-96cfb4aa3b99"
      },
      "execution_count": null,
      "outputs": [
        {
          "output_type": "stream",
          "name": "stdout",
          "text": [
            "Digite o comprimento do cateto oposto: 3\n",
            "Digite o comprimento do cateto adjacante: 4\n",
            "Esse é o valor da sua hipotenusa: 5.0\n"
          ]
        }
      ]
    }
  ]
}